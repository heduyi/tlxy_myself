{
 "cells": [
  {
   "cell_type": "code",
   "execution_count": 19,
   "metadata": {
    "scrolled": true
   },
   "outputs": [
    {
     "name": "stdout",
     "output_type": "stream",
     "text": [
      "NoName\n",
      "NoName\n",
      "sec\n",
      "sleeping....\n",
      "9527\n",
      "考试啦\n"
     ]
    }
   ],
   "source": [
    "# 继承的语法\n",
    "# 在python中，任何类都有一个共同的父类叫object\n",
    "# 子类一旦继承父类，则可以使用父类中除私有成员外的所有内容\n",
    "class Person():\n",
    "        name = 'NoName'\n",
    "        age = 18\n",
    "        __score = '0' # 考试成绩是秘密，只能自己知道\n",
    "        _petname = 'sec' # 小名，是保护的，子类可以用，但不能共用\n",
    "        def sleep(self):\n",
    "            print('sleeping....')\n",
    "\n",
    "# 父类写在括号内\n",
    "class Teacher(Person):\n",
    "    # 子类中可以定义独有的成员属性和方法\n",
    "    teacher_id = '9527'\n",
    "    def make_test(self):\n",
    "        print('考试啦')\n",
    "\n",
    "t = Teacher()\n",
    "print(t.name)\n",
    "print(Teacher.name)\n",
    "# 受保护的，外部不能访问，但是子类可以访问\n",
    "print(t._petname)\n",
    "t.sleep()\n",
    "# 私有的，只有自己可以访问，子类或者公开都无法访问，故运行的话会报错\n",
    "# print(t.__score)\n",
    "\n",
    "print(t.teacher_id)\n",
    "t.make_test()\n",
    "\n",
    "        "
   ]
  },
  {
   "cell_type": "code",
   "execution_count": 20,
   "metadata": {},
   "outputs": [
    {
     "name": "stdout",
     "output_type": "stream",
     "text": [
      "dongjie\n"
     ]
    }
   ],
   "source": [
    "# 子类中定义的成员和父类成员如果相同，则优先使用子类成员,子类和父类均有name，优先子类中的name\n",
    "class Person():\n",
    "        name = 'NoName'\n",
    "        age = 18\n",
    "        __score = '0' # 考试成绩是秘密，只能自己知道\n",
    "        _petname = 'sec' # 小名，是保护的，子类可以用，但不能共用\n",
    "        def sleep(self):\n",
    "            print('sleeping....')\n",
    "\n",
    "# 父类写在括号内\n",
    "class Teacher(Person):\n",
    "    name = 'dongjie'\n",
    "    teacher_id = '9527'\n",
    "    def make_test(self):\n",
    "        print('考试啦')\n",
    "t = Teacher()\n",
    "print(t.name)"
   ]
  },
  {
   "cell_type": "code",
   "execution_count": 23,
   "metadata": {},
   "outputs": [
    {
     "name": "stdout",
     "output_type": "stream",
     "text": [
      "make some money\n",
      "考试啦\n"
     ]
    }
   ],
   "source": [
    "# 子类扩充父类功能的举例(2种方法)\n",
    "# 人有工作的函数，老师也有，但老师的工作除了挣钱还需要讲课\n",
    "class Person():\n",
    "        name = 'NoName'\n",
    "        age = 18\n",
    "        __score = '0' # 考试成绩是秘密，只能自己知道\n",
    "        _petname = 'sec' # 小名，是保护的，子类可以用，但不能共用\n",
    "        def sleep(self):\n",
    "            print('sleeping....')\n",
    "        def work(self):\n",
    "            print('make some money')\n",
    "\n",
    "# 父类写在括号内\n",
    "class Teacher(Person):\n",
    "    name = 'dongjie'\n",
    "    teacher_id = '9527'\n",
    "    def make_test(self):\n",
    "        print('考试啦')\n",
    "    \n",
    "    def work(self):\n",
    "        # 扩充父类的功能只需要调用父类相应的函数\n",
    "        # 方法一\n",
    "        #Person.work(self)\n",
    "        \n",
    "        # 方法二\n",
    "        # super()代表得到父类\n",
    "        super().work()\n",
    "        \n",
    "        self.make_test()\n",
    "    \n",
    "\n",
    "t = Teacher()\n",
    "t.work()"
   ]
  },
  {
   "cell_type": "code",
   "execution_count": 1,
   "metadata": {},
   "outputs": [
    {
     "name": "stdout",
     "output_type": "stream",
     "text": [
      "I am init a dog.\n"
     ]
    }
   ],
   "source": [
    "# 构造函数的概念\n",
    "\n",
    "class Dog():\n",
    "    # __init__就是构造函数\n",
    "    # 每次实例化的时候第一个被自动调用\n",
    "    # 主要工作是进行初始化\n",
    "    def __init__(self):\n",
    "        print('I am init a dog.')\n",
    "\n",
    "# 只是实例化该类，对象名称为kaka，就直接调用了该构造函数\n",
    "# 实例化的时候，括号内的参数需要跟构造函数参数匹配,默认将kaka作为第一个参数放入括号中\n",
    "kaka = Dog()"
   ]
  },
  {
   "cell_type": "code",
   "execution_count": 2,
   "metadata": {},
   "outputs": [
    {
     "name": "stdout",
     "output_type": "stream",
     "text": [
      "I am init a dog.\n"
     ]
    }
   ],
   "source": [
    "# 继承中的构造函数 - 1\n",
    "\n",
    "class Animal():\n",
    "    pass\n",
    "\n",
    "class CuteAnimal(Animal):\n",
    "    pass\n",
    "\n",
    "class Dog(CuteAnimal):\n",
    "    def __init__(self):\n",
    "        print('I am init a dog.')\n",
    "\n",
    "# 实例化的时候，自动调用了Dog的构造函数\n",
    "kaka = Dog()"
   ]
  },
  {
   "cell_type": "code",
   "execution_count": 5,
   "metadata": {},
   "outputs": [
    {
     "name": "stdout",
     "output_type": "stream",
     "text": [
      "I am init a dog.\n",
      "Cute Animal...\n"
     ]
    }
   ],
   "source": [
    "# 继承中的构造函数 - 2\n",
    "\n",
    "class Animal():\n",
    "    def __init__(self):\n",
    "        print('Animal')\n",
    "\n",
    "class CuteAnimal(Animal):\n",
    "    def __init__(self):\n",
    "        print('Cute Animal...')\n",
    "\n",
    "class Dog(CuteAnimal):\n",
    "    def __init__(self):\n",
    "        print('I am init a dog.')\n",
    "\n",
    "# 实例化的时候，自动调用了Dog的构造函数\n",
    "# 因为找到了构造函数，不在继续查找父类的构造函数\n",
    "kaka = Dog()\n",
    "\n",
    "\n",
    "class Cat(CuteAnimal):\n",
    "    pass\n",
    "\n",
    "# 此时自动调用构造函数，因为Cat没有构造函数，所以查找Cat父类的构造函数\n",
    "# 找到父类CuteAnimal的构造函数后，不再继续向上查找\n",
    "c = Cat()\n",
    "    \n",
    "\n"
   ]
  },
  {
   "cell_type": "code",
   "execution_count": 9,
   "metadata": {},
   "outputs": [
    {
     "name": "stdout",
     "output_type": "stream",
     "text": [
      "I am init a dog.\n",
      "Cute Animalmimi...\n"
     ]
    }
   ],
   "source": [
    "# 继承中的构造函数 - 3\n",
    "\n",
    "class Animal():\n",
    "    def __init__(self):\n",
    "        print('Animal')\n",
    "\n",
    "class CuteAnimal(Animal):\n",
    "    def __init__(self, name):\n",
    "        print('Cute Animal{0}...'.format(name))\n",
    "\n",
    "class Dog(CuteAnimal):\n",
    "    def __init__(self):\n",
    "        print('I am init a dog.')\n",
    "\n",
    "# 实例化Dog时，查找到Dog的构造函数，参数匹配，不会报错\n",
    "d = Dog()\n",
    "\n",
    "\n",
    "class Cat(CuteAnimal):\n",
    "    pass\n",
    "\n",
    "# 此时，Cat没有构造函数，则向父类CuteAnimal查找\n",
    "# 但是父类CuteAnimal的构造函数，需要传入2个参数，实例化的时候只给了c一个，故下面代码运行的话会报错\n",
    "# c = Cat()\n",
    "\n",
    "# 在传入一个参数mimi，则不会报错\n",
    "c = Cat('mimi')"
   ]
  },
  {
   "cell_type": "code",
   "execution_count": 11,
   "metadata": {},
   "outputs": [
    {
     "name": "stdout",
     "output_type": "stream",
     "text": [
      "<class 'type'>\n",
      "Help on class super in module builtins:\n",
      "\n",
      "class super(object)\n",
      " |  super() -> same as super(__class__, <first argument>)\n",
      " |  super(type) -> unbound super object\n",
      " |  super(type, obj) -> bound super object; requires isinstance(obj, type)\n",
      " |  super(type, type2) -> bound super object; requires issubclass(type2, type)\n",
      " |  Typical use to call a cooperative superclass method:\n",
      " |  class C(B):\n",
      " |      def meth(self, arg):\n",
      " |          super().meth(arg)\n",
      " |  This works for class methods too:\n",
      " |  class C(B):\n",
      " |      @classmethod\n",
      " |      def cmeth(cls, arg):\n",
      " |          super().cmeth(arg)\n",
      " |  \n",
      " |  Methods defined here:\n",
      " |  \n",
      " |  __get__(self, instance, owner, /)\n",
      " |      Return an attribute of instance, which is of type owner.\n",
      " |  \n",
      " |  __getattribute__(self, name, /)\n",
      " |      Return getattr(self, name).\n",
      " |  \n",
      " |  __init__(self, /, *args, **kwargs)\n",
      " |      Initialize self.  See help(type(self)) for accurate signature.\n",
      " |  \n",
      " |  __repr__(self, /)\n",
      " |      Return repr(self).\n",
      " |  \n",
      " |  ----------------------------------------------------------------------\n",
      " |  Static methods defined here:\n",
      " |  \n",
      " |  __new__(*args, **kwargs) from builtins.type\n",
      " |      Create and return a new object.  See help(type) for accurate signature.\n",
      " |  \n",
      " |  ----------------------------------------------------------------------\n",
      " |  Data descriptors defined here:\n",
      " |  \n",
      " |  __self__\n",
      " |      the instance invoking super(); may be None\n",
      " |  \n",
      " |  __self_class__\n",
      " |      the type of the instance invoking super(); may be None\n",
      " |  \n",
      " |  __thisclass__\n",
      " |      the class invoking super()\n",
      "\n"
     ]
    }
   ],
   "source": [
    "print(type(super))\n",
    "help(super)"
   ]
  }
 ],
 "metadata": {
  "celltoolbar": "Raw Cell Format",
  "kernelspec": {
   "display_name": "Python 3",
   "language": "python",
   "name": "python3"
  },
  "language_info": {
   "codemirror_mode": {
    "name": "ipython",
    "version": 3
   },
   "file_extension": ".py",
   "mimetype": "text/x-python",
   "name": "python",
   "nbconvert_exporter": "python",
   "pygments_lexer": "ipython3",
   "version": "3.7.1"
  }
 },
 "nbformat": 4,
 "nbformat_minor": 2
}
