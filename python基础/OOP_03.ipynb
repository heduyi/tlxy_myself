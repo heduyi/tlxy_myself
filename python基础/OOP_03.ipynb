{
 "cells": [
  {
   "cell_type": "code",
   "execution_count": 19,
   "metadata": {
    "scrolled": true
   },
   "outputs": [
    {
     "name": "stdout",
     "output_type": "stream",
     "text": [
      "NoName\n",
      "NoName\n",
      "sec\n",
      "sleeping....\n",
      "9527\n",
      "考试啦\n"
     ]
    }
   ],
   "source": [
    "# 继承的语法\n",
    "# 在python中，任何类都有一个共同的父类叫object\n",
    "# 子类一旦继承父类，则可以使用父类中除私有成员外的所有内容\n",
    "class Person():\n",
    "        name = 'NoName'\n",
    "        age = 18\n",
    "        __score = '0' # 考试成绩是秘密，只能自己知道\n",
    "        _petname = 'sec' # 小名，是保护的，子类可以用，但不能共用\n",
    "        def sleep(self):\n",
    "            print('sleeping....')\n",
    "\n",
    "# 父类写在括号内\n",
    "class Teacher(Person):\n",
    "    # 子类中可以定义独有的成员属性和方法\n",
    "    teacher_id = '9527'\n",
    "    def make_test(self):\n",
    "        print('考试啦')\n",
    "\n",
    "t = Teacher()\n",
    "print(t.name)\n",
    "print(Teacher.name)\n",
    "# 受保护的，外部不能访问，但是子类可以访问\n",
    "print(t._petname)\n",
    "t.sleep()\n",
    "# 私有的，只有自己可以访问，子类或者公开都无法访问，故运行的话会报错\n",
    "# print(t.__score)\n",
    "\n",
    "print(t.teacher_id)\n",
    "t.make_test()\n",
    "\n",
    "        "
   ]
  },
  {
   "cell_type": "code",
   "execution_count": 20,
   "metadata": {},
   "outputs": [
    {
     "name": "stdout",
     "output_type": "stream",
     "text": [
      "dongjie\n"
     ]
    }
   ],
   "source": [
    "# 子类中定义的成员和父类成员如果相同，则优先使用子类成员,子类和父类均有name，优先子类中的name\n",
    "class Person():\n",
    "        name = 'NoName'\n",
    "        age = 18\n",
    "        __score = '0' # 考试成绩是秘密，只能自己知道\n",
    "        _petname = 'sec' # 小名，是保护的，子类可以用，但不能共用\n",
    "        def sleep(self):\n",
    "            print('sleeping....')\n",
    "\n",
    "# 父类写在括号内\n",
    "class Teacher(Person):\n",
    "    name = 'dongjie'\n",
    "    teacher_id = '9527'\n",
    "    def make_test(self):\n",
    "        print('考试啦')\n",
    "t = Teacher()\n",
    "print(t.name)"
   ]
  },
  {
   "cell_type": "code",
   "execution_count": 23,
   "metadata": {},
   "outputs": [
    {
     "name": "stdout",
     "output_type": "stream",
     "text": [
      "make some money\n",
      "考试啦\n"
     ]
    }
   ],
   "source": [
    "# 子类扩充父类功能的举例(2种方法)\n",
    "# 人有工作的函数，老师也有，但老师的工作除了挣钱还需要讲课\n",
    "class Person():\n",
    "        name = 'NoName'\n",
    "        age = 18\n",
    "        __score = '0' # 考试成绩是秘密，只能自己知道\n",
    "        _petname = 'sec' # 小名，是保护的，子类可以用，但不能共用\n",
    "        def sleep(self):\n",
    "            print('sleeping....')\n",
    "        def work(self):\n",
    "            print('make some money')\n",
    "\n",
    "# 父类写在括号内\n",
    "class Teacher(Person):\n",
    "    name = 'dongjie'\n",
    "    teacher_id = '9527'\n",
    "    def make_test(self):\n",
    "        print('考试啦')\n",
    "    \n",
    "    def work(self):\n",
    "        # 扩充父类的功能只需要调用父类相应的函数\n",
    "        # 方法一\n",
    "        #Person.work(self)\n",
    "        \n",
    "        # 方法二\n",
    "        # super()代表得到父类\n",
    "        super().work()\n",
    "        \n",
    "        self.make_test()\n",
    "    \n",
    "\n",
    "t = Teacher()\n",
    "t.work()"
   ]
  }
 ],
 "metadata": {
  "celltoolbar": "Raw Cell Format",
  "kernelspec": {
   "display_name": "Python 3",
   "language": "python",
   "name": "python3"
  },
  "language_info": {
   "codemirror_mode": {
    "name": "ipython",
    "version": 3
   },
   "file_extension": ".py",
   "mimetype": "text/x-python",
   "name": "python",
   "nbconvert_exporter": "python",
   "pygments_lexer": "ipython3",
   "version": "3.7.0"
  }
 },
 "nbformat": 4,
 "nbformat_minor": 2
}
