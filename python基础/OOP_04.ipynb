{
 "cells": [
  {
   "cell_type": "code",
   "execution_count": 1,
   "metadata": {},
   "outputs": [
    {
     "name": "stdout",
     "output_type": "stream",
     "text": [
      "(<class '__main__.A'>, <class 'object'>)\n",
      "(<class '__main__.B'>, <class '__main__.A'>, <class 'object'>)\n"
     ]
    }
   ],
   "source": [
    "# super中的MRO的作用\n",
    "class A():\n",
    "    pass\n",
    "\n",
    "class B(A):\n",
    "    pass\n",
    "\n",
    "# 显示类的所有父类\n",
    "print(A.__mro__)\n",
    "print(B.__mro__)\n"
   ]
  },
  {
   "cell_type": "code",
   "execution_count": 5,
   "metadata": {},
   "outputs": [
    {
     "name": "stdout",
     "output_type": "stream",
     "text": [
      "I can flying\n",
      "I can swimming\n",
      "I can working\n"
     ]
    }
   ],
   "source": [
    "# 多继承举例\n",
    "# 子类可以直接拥有父类的属性和方法，私有属性和方法除外\n",
    "class Fish():\n",
    "    def __init__(self,name):\n",
    "        self.name = name\n",
    "    def swim(self):\n",
    "        print('I can swimming')\n",
    "        \n",
    "class Bird():\n",
    "    def __init__(self,name):\n",
    "        self.name = name\n",
    "    def fly(self):\n",
    "        print('I can flying')\n",
    "\n",
    "class Person():\n",
    "    def __init__(self,name):\n",
    "        self.name = name\n",
    "    def work(self):\n",
    "        print('I can working')\n",
    "\n",
    "# 多继承举例  \n",
    "class SuperMan(Person, Bird, Fish):\n",
    "    def __init__(self,name):\n",
    "        self.name = name\n",
    "      \n",
    "s = SuperMan('yueyue')\n",
    "s.fly()\n",
    "s.swim()\n",
    "\n",
    "\n",
    "# 单继承的举例\n",
    "class Student(Person):\n",
    "    def __init__(self,name):\n",
    "        self.name = name\n",
    "\n",
    "stu = Student('jingjing')\n",
    "stu.work()\n"
   ]
  },
  {
   "cell_type": "code",
   "execution_count": null,
   "metadata": {},
   "outputs": [],
   "source": [
    "# 菱形继承问题,继承关系图会形成一个菱形\n",
    "class A():\n",
    "    pass\n",
    "class B(A):\n",
    "    pass\n",
    "class C(A):\n",
    "    pass\n",
    "\n",
    "class D(B,C):\n",
    "    pass\n",
    "\n"
   ]
  },
  {
   "cell_type": "code",
   "execution_count": 1,
   "metadata": {},
   "outputs": [
    {
     "name": "stdout",
     "output_type": "stream",
     "text": [
      "(<class '__main__.Tutor'>, <class '__main__.Teacher'>, <class '__main__.Student'>, <class '__main__.Person'>, <class 'object'>)\n",
      "{}\n",
      "{'__module__': '__main__', '__doc__': None}\n"
     ]
    }
   ],
   "source": [
    "# Mixin举例（通过多继承实现）\n",
    "class Person():\n",
    "    name = 'dongjie'\n",
    "    age = 18\n",
    "    \n",
    "    def eat(self):\n",
    "        print('eating...')\n",
    "        \n",
    "    def drink(self):\n",
    "        print('drinking...')\n",
    "        \n",
    "    def sleep(self):\n",
    "        print('sleeping...')\n",
    "\n",
    "# 一个子类Teacher\n",
    "class Teacher(Person):\n",
    "    def work(self):\n",
    "        print('working...')\n",
    "\n",
    "# 一个类Student\n",
    "class Student(Person):\n",
    "    def study(self):\n",
    "        print('studying...')\n",
    "\n",
    "# 一个助教，既要上课，又要学习\n",
    "class Tutor(Teacher, Student):\n",
    "    pass\n",
    "\n",
    "# 实例化该类\n",
    "t = Tutor()\n",
    "# 显示该子类的MRO，即所有父类的链路\n",
    "print(Tutor.__mro__)\n",
    "# 检查该实例的所有的成员\n",
    "print(t.__dict__)\n",
    "# 检查该实例的所有的成员\n",
    "print(Tutor.__dict__)\n",
    "\n",
    "\n",
    "\n",
    "\n"
   ]
  },
  {
   "cell_type": "code",
   "execution_count": 2,
   "metadata": {},
   "outputs": [
    {
     "name": "stdout",
     "output_type": "stream",
     "text": [
      "(<class '__main__.Tutor'>, <class '__main__.Person'>, <class '__main__.TeacherMinxin'>, <class '__main__.StudentMixin'>, <class 'object'>)\n",
      "{}\n",
      "{'__module__': '__main__', '__doc__': None}\n"
     ]
    }
   ],
   "source": [
    "# Mixin举例（通过Mixin实现）\n",
    "class Person():\n",
    "    name = 'dongjie'\n",
    "    age = 18\n",
    "    \n",
    "    def eat(self):\n",
    "        print('eating...')\n",
    "        \n",
    "    def drink(self):\n",
    "        print('drinking...')\n",
    "        \n",
    "    def sleep(self):\n",
    "        print('sleeping...')\n",
    "\n",
    "# 定义一个TeacherMinxin\n",
    "class TeacherMinxin():\n",
    "    def work(self):\n",
    "        print('working...')\n",
    "\n",
    "# 定义一个StudentMinxin\n",
    "class StudentMixin():\n",
    "    def study(self):\n",
    "        print('studying...')\n",
    "\n",
    "# 一个助教，既要上课，又要学习,父类是Person，增加了2个Mixin\n",
    "class Tutor(Person, TeacherMinxin,StudentMixin):\n",
    "    pass\n",
    "\n",
    "# 实例化该类\n",
    "t = Tutor()\n",
    "# 显示该子类的MRO，即所有父类的链路\n",
    "print(Tutor.__mro__)\n",
    "# 检查该实例的所有的成员\n",
    "print(t.__dict__)\n",
    "# 检查该实例的所有的成员\n",
    "print(Tutor.__dict__)\n"
   ]
  },
  {
   "cell_type": "code",
   "execution_count": 4,
   "metadata": {},
   "outputs": [
    {
     "name": "stdout",
     "output_type": "stream",
     "text": [
      "True\n",
      "False\n",
      "True\n"
     ]
    }
   ],
   "source": [
    "# issubclass 检测一个类是不是另一个类的子类\n",
    "class A():\n",
    "    pass\n",
    "\n",
    "class B(A):\n",
    "    pass\n",
    "\n",
    "class C():\n",
    "    pass\n",
    "\n",
    "# 判断B是否是A的子类\n",
    "print(issubclass(B, A))\n",
    "print(issubclass(C, A))\n",
    "print(issubclass(B, object))"
   ]
  },
  {
   "cell_type": "code",
   "execution_count": 7,
   "metadata": {},
   "outputs": [
    {
     "name": "stdout",
     "output_type": "stream",
     "text": [
      "True\n",
      "False\n"
     ]
    }
   ],
   "source": [
    "# isinstance 检测一个对象是否为另一个类的实例\n",
    "class A():\n",
    "    pass\n",
    "\n",
    "a = A()\n",
    "b = B()\n",
    "print(isinstance(a,A))\n",
    "print(isinstance(b,A))"
   ]
  },
  {
   "cell_type": "code",
   "execution_count": 8,
   "metadata": {},
   "outputs": [
    {
     "name": "stdout",
     "output_type": "stream",
     "text": [
      "True\n",
      "False\n"
     ]
    }
   ],
   "source": [
    "# hasattr 检查一个对象是否有某个成员\n",
    "class A():\n",
    "    name = 'dongjie'\n",
    "\n",
    "a = A()\n",
    "print(hasattr(a, 'name'))\n",
    "print(hasattr(a, 'age'))\n"
   ]
  },
  {
   "cell_type": "code",
   "execution_count": 9,
   "metadata": {},
   "outputs": [
    {
     "name": "stdout",
     "output_type": "stream",
     "text": [
      "Help on built-in function setattr in module builtins:\n",
      "\n",
      "setattr(obj, name, value, /)\n",
      "    Sets the named attribute on the given object to the specified value.\n",
      "    \n",
      "    setattr(x, 'y', v) is equivalent to ``x.y = v''\n",
      "\n"
     ]
    }
   ],
   "source": [
    "# help举例\n",
    "# 想知道setattr的具体用法\n",
    "help(setattr)"
   ]
  },
  {
   "cell_type": "code",
   "execution_count": 28,
   "metadata": {},
   "outputs": [
    {
     "data": {
      "text/plain": [
       "['__class__',\n",
       " '__delattr__',\n",
       " '__dict__',\n",
       " '__dir__',\n",
       " '__doc__',\n",
       " '__eq__',\n",
       " '__format__',\n",
       " '__ge__',\n",
       " '__getattribute__',\n",
       " '__gt__',\n",
       " '__hash__',\n",
       " '__init__',\n",
       " '__init_subclass__',\n",
       " '__le__',\n",
       " '__lt__',\n",
       " '__module__',\n",
       " '__ne__',\n",
       " '__new__',\n",
       " '__reduce__',\n",
       " '__reduce_ex__',\n",
       " '__repr__',\n",
       " '__setattr__',\n",
       " '__sizeof__',\n",
       " '__str__',\n",
       " '__subclasshook__',\n",
       " '__weakref__']"
      ]
     },
     "execution_count": 28,
     "metadata": {},
     "output_type": "execute_result"
    }
   ],
   "source": [
    "# dir案例\n",
    "class A():\n",
    "    pass\n",
    "\n",
    "dir(A)"
   ]
  },
  {
   "cell_type": "code",
   "execution_count": 27,
   "metadata": {},
   "outputs": [
    {
     "data": {
      "text/plain": [
       "['__class__',\n",
       " '__delattr__',\n",
       " '__dict__',\n",
       " '__dir__',\n",
       " '__doc__',\n",
       " '__eq__',\n",
       " '__format__',\n",
       " '__ge__',\n",
       " '__getattribute__',\n",
       " '__gt__',\n",
       " '__hash__',\n",
       " '__init__',\n",
       " '__init_subclass__',\n",
       " '__le__',\n",
       " '__lt__',\n",
       " '__module__',\n",
       " '__ne__',\n",
       " '__new__',\n",
       " '__reduce__',\n",
       " '__reduce_ex__',\n",
       " '__repr__',\n",
       " '__setattr__',\n",
       " '__sizeof__',\n",
       " '__str__',\n",
       " '__subclasshook__',\n",
       " '__weakref__']"
      ]
     },
     "execution_count": 27,
     "metadata": {},
     "output_type": "execute_result"
    }
   ],
   "source": [
    "# dir案例\n",
    "class A():\n",
    "    pass\n",
    "\n",
    "a = A()\n",
    "dir(a)"
   ]
  }
 ],
 "metadata": {
  "kernelspec": {
   "display_name": "Python 3",
   "language": "python",
   "name": "python3"
  },
  "language_info": {
   "codemirror_mode": {
    "name": "ipython",
    "version": 3
   },
   "file_extension": ".py",
   "mimetype": "text/x-python",
   "name": "python",
   "nbconvert_exporter": "python",
   "pygments_lexer": "ipython3",
   "version": "3.7.0"
  }
 },
 "nbformat": 4,
 "nbformat_minor": 2
}
