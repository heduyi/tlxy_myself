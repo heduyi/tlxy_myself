{
 "cells": [
  {
   "cell_type": "code",
   "execution_count": 3,
   "metadata": {},
   "outputs": [
    {
     "name": "stdout",
     "output_type": "stream",
     "text": [
      "dongjie\n",
      "18\n",
      "83386808\n",
      "8791168431472\n",
      "********************\n",
      "dongjie\n",
      "18\n",
      "83386808\n",
      "8791168431472\n"
     ]
    }
   ],
   "source": [
    "class A():\n",
    "    name = 'dongjie'\n",
    "    age = 18\n",
    "\n",
    "    # 注意self的写法，参数自动传入一个self\n",
    "    def say(self):\n",
    "        self.name = 'aaa'\n",
    "        self.age = 200\n",
    "\n",
    "# 此时A称为类实例\n",
    "print(A.name)\n",
    "print(A.age)\n",
    "\n",
    "# id可以鉴别一个变量和另一个变量是否是一个变量\n",
    "print(id(A.name))\n",
    "print(id(A.age))\n",
    "print('*' * 20)\n",
    "\n",
    "a = A()\n",
    "print(a.name)\n",
    "print(a.age)\n",
    "print(id(a.name))\n",
    "print(id(a.age))\n",
    "\n",
    "# 类实例的属性和对象的实例属性的id是相同的，故是指向同一个变量（在不对对象的实例属性赋值的前提下）"
   ]
  },
  {
   "cell_type": "code",
   "execution_count": 5,
   "metadata": {},
   "outputs": [
    {
     "name": "stdout",
     "output_type": "stream",
     "text": [
      "dongjie\n",
      "18\n",
      "83386808\n",
      "8791168431472\n",
      "********************\n",
      "{'__module__': '__main__', 'name': 'dongjie', 'age': 18, 'say': <function A.say at 0x0000000004F83510>, '__dict__': <attribute '__dict__' of 'A' objects>, '__weakref__': <attribute '__weakref__' of 'A' objects>, '__doc__': None}\n",
      "{}\n",
      "{'name': 'feifei', 'age': 16}\n",
      "feifei\n",
      "16\n",
      "83269200\n",
      "8791168431408\n"
     ]
    }
   ],
   "source": [
    "class A():\n",
    "    name = 'dongjie'\n",
    "    age = 18\n",
    "\n",
    "    # 注意self的写法，参数自动传入一个self\n",
    "    def say(self):\n",
    "        self.name = 'aaa'\n",
    "        self.age = 200\n",
    "\n",
    "# 此时A称为类实例\n",
    "print(A.name)\n",
    "print(A.age)\n",
    "\n",
    "# id可以鉴别一个变量和另一个变量是否是一个变量\n",
    "print(id(A.name))\n",
    "print(id(A.age))\n",
    "print('*' * 20)\n",
    "\n",
    "a = A()\n",
    "print(A.__dict__)\n",
    "print(a.__dict__)\n",
    "a.name = 'feifei'\n",
    "a.age = 16\n",
    "print(a.__dict__)\n",
    "\n",
    "print(a.name)\n",
    "print(a.age)\n",
    "print(id(a.name))\n",
    "print(id(a.age))\n",
    "\n",
    "# 类实例的属性和对象的实例属性的id是不相同的（在对对象的实例属性赋值的前提下）"
   ]
  },
  {
   "cell_type": "code",
   "execution_count": 15,
   "metadata": {},
   "outputs": [
    {
     "name": "stdout",
     "output_type": "stream",
     "text": [
      "My name is aaa\n",
      "My age is 200\n",
      "My name is aaa\n",
      "My age is 200\n"
     ]
    }
   ],
   "source": [
    "class Student():\n",
    "    name = 'dongjie'\n",
    "    age = 18\n",
    "\n",
    "    # 注意self的写法，参数自动传入一个self\n",
    "    def say(self):\n",
    "        self.name = 'aaa'\n",
    "        self.age = 200\n",
    "        print('My name is {}'.format(self.name))\n",
    "        print('My age is {}'.format(self.age))\n",
    "        \n",
    "    def sayAgain(ss):\n",
    "        print('My name is {}'.format(ss.name))\n",
    "        print('My age is {}'.format(ss.age))\n",
    "# 相当于将jingjing传入到self当中\n",
    "jingjing = Student()\n",
    "jingjing.say()\n",
    "jingjing.sayAgain()\n",
    "\n",
    "\n"
   ]
  },
  {
   "cell_type": "code",
   "execution_count": 25,
   "metadata": {},
   "outputs": [
    {
     "name": "stdout",
     "output_type": "stream",
     "text": [
      "My name is erna\n",
      "My age is 17\n",
      "My age is 19\n",
      "dana\n",
      "19\n",
      "Nice to see you again.\n"
     ]
    }
   ],
   "source": [
    "class Teacher():\n",
    "    name = 'dana'\n",
    "    age = 19\n",
    "    \n",
    "    def say(self):\n",
    "        self.name = 'erna'\n",
    "        self.age = 17\n",
    "        print('My name is {0}'.format(self.name))\n",
    "        print('My age is {0}'.format(self.age))\n",
    "        # 如果类方法中需要访问当前类的成员，可以通过__class__.成员名 来访问\n",
    "        print('My age is {0}'.format(__class__.age))\n",
    "    \n",
    "    def sayAgain():\n",
    "        # 如果类方法中需要访问当前类的成员，可以通过__class__.成员名 来访问\n",
    "        print(__class__.name)\n",
    "        print(__class__.age)\n",
    "        print('Nice to see you again.')\n",
    "\n",
    "# 方法中有self形参的方法为非绑定类，可以通过对象访问\n",
    "t = Teacher()\n",
    "t.say()\n",
    "\n",
    "# 没有self的称为绑定方法，只能通过类访问\n",
    "Teacher.sayAgain()"
   ]
  },
  {
   "cell_type": "code",
   "execution_count": 34,
   "metadata": {},
   "outputs": [
    {
     "name": "stdout",
     "output_type": "stream",
     "text": [
      "aaaa\n",
      "200\n",
      "aaaa\n",
      "200\n",
      "dongjie\n",
      "18\n",
      "bbbb\n",
      "90\n"
     ]
    }
   ],
   "source": [
    "# 关于self的案例\n",
    "\n",
    "class A():\n",
    "    name = 'dongjie'\n",
    "    age = 18\n",
    "    def __init__(self):\n",
    "        self.name = 'aaaa'\n",
    "        self.age = 200\n",
    "        \n",
    "    def say(self):\n",
    "        print(self.name)\n",
    "        print(self.age)\n",
    "class B():\n",
    "    name = 'bbbb'\n",
    "    age = 90\n",
    "\n",
    "# 类A有个对象叫a\n",
    "a = A()\n",
    "# 有self形参的调用，通过对象访问，将a调用给self\n",
    "a.say()\n",
    "\n",
    "# 此时，self被a替换\n",
    "A.say(a)\n",
    "\n",
    "#同样可以把A作为参数传入\n",
    "A.say(A)\n",
    "\n",
    "# 此时传入的是类实例B，因为B具有name和age属性，所以不会报错\n",
    "A.say(B)\n",
    "\n",
    "# 以上代码，利用了鸭子模型"
   ]
  },
  {
   "cell_type": "code",
   "execution_count": 35,
   "metadata": {},
   "outputs": [
    {
     "name": "stdout",
     "output_type": "stream",
     "text": [
      "dongjie\n"
     ]
    },
    {
     "ename": "AttributeError",
     "evalue": "'Person' object has no attribute '__age'",
     "traceback": [
      "\u001b[1;31m---------------------------------------------------------------------------\u001b[0m",
      "\u001b[1;31mAttributeError\u001b[0m                            Traceback (most recent call last)",
      "\u001b[1;32m<ipython-input-35-630ce56b7f74>\u001b[0m in \u001b[0;36m<module>\u001b[1;34m\u001b[0m\n\u001b[0;32m      6\u001b[0m \u001b[0mp\u001b[0m \u001b[1;33m=\u001b[0m \u001b[0mPerson\u001b[0m\u001b[1;33m(\u001b[0m\u001b[1;33m)\u001b[0m\u001b[1;33m\u001b[0m\u001b[1;33m\u001b[0m\u001b[0m\n\u001b[0;32m      7\u001b[0m \u001b[0mprint\u001b[0m\u001b[1;33m(\u001b[0m\u001b[0mp\u001b[0m\u001b[1;33m.\u001b[0m\u001b[0mname\u001b[0m\u001b[1;33m)\u001b[0m\u001b[1;33m\u001b[0m\u001b[1;33m\u001b[0m\u001b[0m\n\u001b[1;32m----> 8\u001b[1;33m \u001b[0mprint\u001b[0m\u001b[1;33m(\u001b[0m\u001b[0mp\u001b[0m\u001b[1;33m.\u001b[0m\u001b[0m__age\u001b[0m\u001b[1;33m)\u001b[0m\u001b[1;33m\u001b[0m\u001b[1;33m\u001b[0m\u001b[0m\n\u001b[0m",
      "\u001b[1;31mAttributeError\u001b[0m: 'Person' object has no attribute '__age'"
     ],
     "output_type": "error"
    }
   ],
   "source": [
    "# 私有成员举例\n",
    "class Person():\n",
    "    name = 'dongjie'\n",
    "    __age = 18\n",
    "    \n",
    "p = Person()\n",
    "# name是公有变量\n",
    "print(p.name)\n",
    "# __age是私有变量，从外部访问时会提示无此成员\n",
    "print(p.__age)"
   ]
  },
  {
   "cell_type": "code",
   "execution_count": 39,
   "metadata": {},
   "outputs": [
    {
     "name": "stdout",
     "output_type": "stream",
     "text": [
      "{'__module__': '__main__', 'name': 'dongjie', '_Person__age': 18, '__dict__': <attribute '__dict__' of 'Person' objects>, '__weakref__': <attribute '__weakref__' of 'Person' objects>, '__doc__': None}\n",
      "19\n"
     ]
    }
   ],
   "source": [
    "# name mangling技术\n",
    "print(Person.__dict__)\n",
    "\n",
    "p._Person_age = 19\n",
    "print(p._Person_age)"
   ]
  }
 ],
 "metadata": {
  "kernelspec": {
   "display_name": "Python 3",
   "language": "python",
   "name": "python3"
  },
  "language_info": {
   "codemirror_mode": {
    "name": "ipython",
    "version": 3
   },
   "file_extension": ".py",
   "mimetype": "text/x-python",
   "name": "python",
   "nbconvert_exporter": "python",
   "pygments_lexer": "ipython3",
   "version": "3.7.1"
  }
 },
 "nbformat": 4,
 "nbformat_minor": 2
}
