{
 "cells": [
  {
   "cell_type": "code",
   "execution_count": 7,
   "metadata": {},
   "outputs": [
    {
     "name": "stdout",
     "output_type": "stream",
     "text": [
      "[1, 2, 3, 4, 5, 6]\n",
      "[1, 2, 300, 4, 5, 6]\n",
      "[1, 2, 300, 4, 5, 6]\n",
      "9\n",
      "109\n",
      "9\n"
     ]
    }
   ],
   "source": [
    "'''\n",
    "传值和传地址的区别\n",
    "对于简单的数值，采用传值的操作，即在函数内对函数的操作不影响外面的变量，不可变的为传值，例如字符串、元组等。\n",
    "对于复杂的变量，采用传地址操作，函数内的函数和外部变量是同一份内容，\n",
    "任何地方对此内容的更改都影响另外的变量或参数的使用，可以变的采取的是传地址，例如list\n",
    "'''\n",
    "\n",
    "def a(n):\n",
    "    n[2] = 300\n",
    "    print(n)\n",
    "    return None\n",
    "\n",
    "def b(n):\n",
    "    n += 100\n",
    "    print(n)\n",
    "    return None\n",
    "\n",
    "an = [1,2,3,4,5,6]\n",
    "bn = 9\n",
    "\n",
    "# an为传地址\n",
    "print(an)\n",
    "a(an)\n",
    "print(an)\n",
    "\n",
    "# bn为传值\n",
    "print(bn)\n",
    "b(bn)\n",
    "print(bn)\n"
   ]
  },
  {
   "cell_type": "markdown",
   "metadata": {},
   "source": [
    "# 关于列表的函数\n"
   ]
  },
  {
   "cell_type": "code",
   "execution_count": 10,
   "metadata": {},
   "outputs": [
    {
     "name": "stdout",
     "output_type": "stream",
     "text": [
      "[1, 2, 3, 4]\n",
      "[1, 2, 3, 4, 100]\n"
     ]
    }
   ],
   "source": [
    "# append 插入一个内容，在末尾追加一个元素\n",
    "a = [i for i in range(1,5)]\n",
    "print(a)\n",
    "a.append(100)\n",
    "print(a)"
   ]
  },
  {
   "cell_type": "code",
   "execution_count": 25,
   "metadata": {},
   "outputs": [
    {
     "name": "stdout",
     "output_type": "stream",
     "text": [
      "[2, 4, 6, 8, 10]\n",
      "[2, 4, 6, 666, 8, 10]\n"
     ]
    }
   ],
   "source": [
    "# insert:指定位置插入一个元素\n",
    "# 格式为insert(index,data),插入位置为index前面,也可以理解为插入后data的下标就是index\n",
    "b = [i for i in range(1,11) if i%2 == 0]\n",
    "print(b)\n",
    "b.insert(3,666)\n",
    "print(b)"
   ]
  },
  {
   "cell_type": "code",
   "execution_count": 34,
   "metadata": {},
   "outputs": [
    {
     "name": "stdout",
     "output_type": "stream",
     "text": [
      "[2, 4, 6, 666, 8]\n",
      "8\n",
      "[2, 4, 6, 666]\n"
     ]
    }
   ],
   "source": [
    "# 删除\n",
    "# del删除，按照下标删除\n",
    "# pop() 弹出，从对应位置拿出一个元素，默认把最后一个元素取出来\n",
    "print(b)\n",
    "last_ele = b.pop()\n",
    "print(last_ele)\n",
    "print(b)"
   ]
  },
  {
   "cell_type": "code",
   "execution_count": 38,
   "metadata": {},
   "outputs": [
    {
     "name": "stdout",
     "output_type": "stream",
     "text": [
      "[1, 3, 5, 7, 9]\n",
      "79475272\n",
      "[1, 3, 5, 7]\n",
      "79475272\n"
     ]
    }
   ],
   "source": [
    "# remove: 在列表中删除指定的值的元素，可以直接指定对应的元素\n",
    "# 如果被删除的元素不在list中，会直接报错，故经常使用if语句判断是否在list中，如果在则删除\n",
    "# if x in list:\n",
    "#    list.remove(x)\n",
    "c = [i for i in range(1,10) if i%2 == 1]\n",
    "print(c)\n",
    "print(id(c))\n",
    "c.remove(9)\n",
    "print(c)\n",
    "print(id(c))\n",
    "# 输出的2个id完全一样，说明remove操作是在原list上直接操作的"
   ]
  },
  {
   "cell_type": "code",
   "execution_count": 45,
   "metadata": {},
   "outputs": [
    {
     "name": "stdout",
     "output_type": "stream",
     "text": [
      "[1, 3, 5, 7, 9]\n",
      "83305992\n",
      "[]\n",
      "83305992\n"
     ]
    }
   ],
   "source": [
    "# clear:清空\n",
    "c = [i for i in range(1,10) if i%2 == 1]\n",
    "print(c)\n",
    "print(id(c))\n",
    "c.clear()\n",
    "print(c)\n",
    "print(id(c))\n",
    "# 可以看到id是一样的，说明直接清空了原始的list\n",
    "# 如果不需要保持id不变，直接重新赋值空列表即可，如下\n",
    "# a = list()\n",
    "# a = []"
   ]
  },
  {
   "cell_type": "code",
   "execution_count": 47,
   "metadata": {},
   "outputs": [
    {
     "name": "stdout",
     "output_type": "stream",
     "text": [
      "[1, 2, 3, 4, 5, 6]\n",
      "83348744\n",
      "[6, 5, 4, 3, 2, 1]\n",
      "83348744\n"
     ]
    }
   ],
   "source": [
    "# reverse：翻转列表内容，原地翻转\n",
    "a = [1,2,3,4,5,6]\n",
    "print(a)\n",
    "print(id(a))\n",
    "a.reverse()\n",
    "print(a)\n",
    "print(id(a))"
   ]
  },
  {
   "cell_type": "code",
   "execution_count": 48,
   "metadata": {},
   "outputs": [
    {
     "name": "stdout",
     "output_type": "stream",
     "text": [
      "[1, 2, 3, 4]\n",
      "86716296\n",
      "[1, 2, 3, 4, 5, 6, 7, 8]\n",
      "86716296\n"
     ]
    }
   ],
   "source": [
    "# extend:扩展列表，把第二个列表直接拼接到第一个上去\n",
    "a = [1,2,3,4]\n",
    "b =[5,6,7,8]\n",
    "print(a)\n",
    "print(id(a))\n",
    "\n",
    "a.extend(b)\n",
    "print(a)\n",
    "print(id(a))"
   ]
  },
  {
   "cell_type": "code",
   "execution_count": 51,
   "metadata": {},
   "outputs": [
    {
     "name": "stdout",
     "output_type": "stream",
     "text": [
      "[1, 2, 6, 3, 4, 5, 6, 6]\n",
      "3\n"
     ]
    }
   ],
   "source": [
    "# count：查找list中指定元素的个数\n",
    "a = [1,2,3,4,5,6]\n",
    "a.append(6)\n",
    "a.insert(2,6)\n",
    "print(a)\n",
    "num_6 = a.count(6)\n",
    "print(num_6)"
   ]
  },
  {
   "cell_type": "code",
   "execution_count": 56,
   "metadata": {},
   "outputs": [
    {
     "name": "stdout",
     "output_type": "stream",
     "text": [
      "[1, 2, 3, 4, 5, 6]\n",
      "[1, 2, 3, 777, 5, 6]\n",
      "[1, 2, 3, 777, 5, 6]\n",
      "83308168\n",
      "83308168\n",
      "********************\n",
      "[1, 2, 3, 777, 5, 6]\n",
      "83308168\n",
      "[1, 2, 3, 777, 5, 6]\n",
      "83347272\n",
      "********************\n",
      "[1, 2, 3, 777, 5, 6]\n",
      "[1, 2, 3, 888, 5, 6]\n"
     ]
    }
   ],
   "source": [
    "# copy:拷贝，浅拷贝，只能拷贝一层\n",
    "a = [1,2,3,4,5,6]\n",
    "print(a)\n",
    "b = a\n",
    "b[3] = 777\n",
    "print(a)\n",
    "print(b)\n",
    "print(id(a))\n",
    "print(id(b))\n",
    "# 可以看到修改了b后，a也被修改了，说明是传地址\n",
    "\n",
    "print('*' * 20)\n",
    "#可以采取copy的形式把a的值复制给b，这时是把a的值拷贝一份，a自身不会变,即传值\n",
    "b = a.copy()\n",
    "print(a)\n",
    "print(id(a))\n",
    "print(b)\n",
    "print(id(b))\n",
    "print('*' * 20)\n",
    "b[3] = 888\n",
    "print(a)\n",
    "print(b)\n"
   ]
  },
  {
   "cell_type": "code",
   "execution_count": 58,
   "metadata": {},
   "outputs": [
    {
     "name": "stdout",
     "output_type": "stream",
     "text": [
      "86928456\n",
      "86928840\n",
      "86928584\n",
      "86928584\n",
      "[1, 2, 3, [10, 20, 666]]\n",
      "[1, 2, 3, [10, 20, 666]]\n"
     ]
    }
   ],
   "source": [
    "# 深拷贝和浅拷贝的区别\n",
    "# copy函数是一个浅拷贝函数，只能拷贝一层内容\n",
    "# 深拷贝要使用特定的工具才行，可以拷贝多层内容\n",
    "a = [1,2,3,[10,20,30]]\n",
    "b = a.copy()\n",
    "#可以看出a和b的id不同\n",
    "print(id(a))\n",
    "print(id(b))\n",
    "\n",
    "#可以看出下标为3的元素（即list）的id是一样的\n",
    "print(id(a[3]))\n",
    "print(id(b[3]))\n",
    "\n",
    "# 针对b修改了嵌套元素的值后，a也发生的改变\n",
    "b[3][2] = 666\n",
    "print(a)\n",
    "print(b)"
   ]
  },
  {
   "cell_type": "markdown",
   "metadata": {},
   "source": [
    "# 元组-tuple\n",
    "- 元组可以看成一个不可更改的list\n",
    "- 元组是序列表，有序\n",
    "- 元组数据值可以访问，不能修改\n",
    "- 元组数据可以是任意类型\n",
    "- list所有特性，除了可修改外，元组都有\n",
    "- list具有的一些操作，比如索引、分片、序列相加、相乘、成员资格等，tuple都有\n",
    "## 元组的创建\n"
   ]
  },
  {
   "cell_type": "code",
   "execution_count": 2,
   "metadata": {},
   "outputs": [
    {
     "name": "stdout",
     "output_type": "stream",
     "text": [
      "<class 'tuple'>\n",
      "<class 'tuple'>\n",
      "(1,)\n",
      "<class 'tuple'>\n",
      "(1, 2, 3, 4)\n",
      "<class 'tuple'>\n",
      "(1, 2, 3, 4, 5)\n"
     ]
    }
   ],
   "source": [
    "# 创建空元组\n",
    "t = ()\n",
    "print(type(t))\n",
    "\n",
    "# 创建只有一个值的元组,一个值后面要有一个逗号\n",
    "t = (1,) # 括号可以省去，但是不推荐\n",
    "print(type(t))\n",
    "print(t)\n",
    "\n",
    "# 创建多个值的元组\n",
    "t = (1,2,3,4) # 括号可以省去，但是不推荐\n",
    "print(type(t))\n",
    "print(t)\n",
    "\n",
    "# 使用其他结构创建元组\n",
    "l = [1,2,3,4,5]\n",
    "t = tuple(l)\n",
    "print(type(t))\n",
    "print(t)"
   ]
  },
  {
   "cell_type": "code",
   "execution_count": 3,
   "metadata": {},
   "outputs": [
    {
     "name": "stdout",
     "output_type": "stream",
     "text": [
      "5\n"
     ]
    }
   ],
   "source": [
    "#索引\n",
    "t = (1,2,3,4,5)\n",
    "print(t[4])"
   ]
  },
  {
   "cell_type": "code",
   "execution_count": 5,
   "metadata": {},
   "outputs": [
    {
     "name": "stdout",
     "output_type": "stream",
     "text": [
      "81791808\n",
      "82032608\n",
      "(2, 4, 6)\n",
      "(3, 4, 5, 6, 7)\n"
     ]
    }
   ],
   "source": [
    "# 分片\n",
    "t = (1,2,3,4,5,6,7)\n",
    "t1 = t[1::2]\n",
    "print(id(t))\n",
    "print(id(t1))\n",
    "print(t1)\n",
    "\n",
    "# 切片可以超标\n",
    "t2 = t[2:100]\n",
    "print(t2)"
   ]
  },
  {
   "cell_type": "code",
   "execution_count": 7,
   "metadata": {},
   "outputs": [
    {
     "name": "stdout",
     "output_type": "stream",
     "text": [
      "(1, 2, 3)\n",
      "80795256\n",
      "(1, 2, 3, 4, 5, 6)\n",
      "80959720\n"
     ]
    },
    {
     "ename": "TypeError",
     "evalue": "'tuple' object does not support item assignment",
     "output_type": "error",
     "traceback": [
      "\u001b[1;31m---------------------------------------------------------------------------\u001b[0m",
      "\u001b[1;31mTypeError\u001b[0m                                 Traceback (most recent call last)",
      "\u001b[1;32m<ipython-input-7-bd9f83e3020a>\u001b[0m in \u001b[0;36m<module>\u001b[1;34m()\u001b[0m\n\u001b[0;32m     10\u001b[0m \u001b[1;31m# 可以看到t1的id已经发生了变化\u001b[0m\u001b[1;33m\u001b[0m\u001b[1;33m\u001b[0m\u001b[0m\n\u001b[0;32m     11\u001b[0m \u001b[1;31m# tuple不可修改指的是某个tuple的内容不可修改\u001b[0m\u001b[1;33m\u001b[0m\u001b[1;33m\u001b[0m\u001b[0m\n\u001b[1;32m---> 12\u001b[1;33m \u001b[0mt1\u001b[0m\u001b[1;33m[\u001b[0m\u001b[1;36m1\u001b[0m\u001b[1;33m]\u001b[0m \u001b[1;33m=\u001b[0m \u001b[1;36m100\u001b[0m\u001b[1;33m\u001b[0m\u001b[0m\n\u001b[0m",
      "\u001b[1;31mTypeError\u001b[0m: 'tuple' object does not support item assignment"
     ]
    }
   ],
   "source": [
    "# 元组相加\n",
    "t1 = (1,2,3)\n",
    "t2 = (4,5,6)\n",
    "print(t1)\n",
    "print(id(t1))\n",
    "t1 = t1 + t2\n",
    "print(t1)\n",
    "print(id(t1))\n",
    "\n",
    "# 可以看到t1的id已经发生了变化\n",
    "# tuple不可修改指的是某个tuple的内容不可修改，如下面操作就会报错\n",
    "t1[1] = 100"
   ]
  },
  {
   "cell_type": "code",
   "execution_count": 8,
   "metadata": {},
   "outputs": [
    {
     "name": "stdout",
     "output_type": "stream",
     "text": [
      "(1, 2, 3, 1, 2, 3, 1, 2, 3)\n"
     ]
    }
   ],
   "source": [
    "# 元组相乘\n",
    "t = (1,2,3)\n",
    "t = t * 3\n",
    "print(t)"
   ]
  },
  {
   "cell_type": "code",
   "execution_count": 9,
   "metadata": {},
   "outputs": [
    {
     "name": "stdout",
     "output_type": "stream",
     "text": [
      "Y\n"
     ]
    }
   ],
   "source": [
    "# 成员检测\n",
    "t=(1,2,3)\n",
    "if 2 in t:\n",
    "    print('Y')\n",
    "else:\n",
    "    print('N')"
   ]
  },
  {
   "cell_type": "code",
   "execution_count": 12,
   "metadata": {},
   "outputs": [
    {
     "name": "stdout",
     "output_type": "stream",
     "text": [
      "1 2 3 wo you ta "
     ]
    }
   ],
   "source": [
    "#元组的遍历,使用for循环\n",
    "t = (1,2,3,'wo','you','ta')\n",
    "for i in t:\n",
    "    print(i, end = ' ')"
   ]
  },
  {
   "cell_type": "code",
   "execution_count": 14,
   "metadata": {},
   "outputs": [
    {
     "name": "stdout",
     "output_type": "stream",
     "text": [
      "(1, 2, 3)\n",
      "(55, 6, 7)\n",
      "('i', 'you', 'he')\n",
      "1 - 2 - 3\n",
      "55 - 6 - 7\n",
      "i - you - he\n"
     ]
    }
   ],
   "source": [
    "#元组的遍历,使用for循环\n",
    "t1 = ((1,2,3),(55,6,7),('i','you','he'))\n",
    "for i in t1:\n",
    "    print(i)\n",
    "for k,m,n in t1:\n",
    "    print(k,'-',m,'-',n)"
   ]
  }
 ],
 "metadata": {
  "kernelspec": {
   "display_name": "Python 3",
   "language": "python",
   "name": "python3"
  },
  "language_info": {
   "codemirror_mode": {
    "name": "ipython",
    "version": 3
   },
   "file_extension": ".py",
   "mimetype": "text/x-python",
   "name": "python",
   "nbconvert_exporter": "python",
   "pygments_lexer": "ipython3",
   "version": "3.6.5"
  }
 },
 "nbformat": 4,
 "nbformat_minor": 2
}
