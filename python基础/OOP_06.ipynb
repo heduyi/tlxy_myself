{
 "cells": [
  {
   "cell_type": "code",
   "execution_count": 6,
   "metadata": {},
   "outputs": [
    {
     "name": "stdout",
     "output_type": "stream",
     "text": [
      "dongjie\n"
     ]
    },
    {
     "ename": "AttributeError",
     "evalue": "'A' object has no attribute 'name'",
     "output_type": "error",
     "traceback": [
      "\u001b[1;31m---------------------------------------------------------------------------\u001b[0m",
      "\u001b[1;31mAttributeError\u001b[0m                            Traceback (most recent call last)",
      "\u001b[1;32m<ipython-input-6-db20f52181d4>\u001b[0m in \u001b[0;36m<module>\u001b[1;34m\u001b[0m\n\u001b[0;32m     14\u001b[0m \u001b[0mprint\u001b[0m\u001b[1;33m(\u001b[0m\u001b[0ma\u001b[0m\u001b[1;33m.\u001b[0m\u001b[0mname\u001b[0m\u001b[1;33m)\u001b[0m\u001b[1;33m\u001b[0m\u001b[1;33m\u001b[0m\u001b[0m\n\u001b[0;32m     15\u001b[0m \u001b[1;32mdel\u001b[0m \u001b[0ma\u001b[0m\u001b[1;33m.\u001b[0m\u001b[0mname\u001b[0m\u001b[1;33m\u001b[0m\u001b[1;33m\u001b[0m\u001b[0m\n\u001b[1;32m---> 16\u001b[1;33m \u001b[0mprint\u001b[0m\u001b[1;33m(\u001b[0m\u001b[0ma\u001b[0m\u001b[1;33m.\u001b[0m\u001b[0mname\u001b[0m\u001b[1;33m)\u001b[0m\u001b[1;33m\u001b[0m\u001b[1;33m\u001b[0m\u001b[0m\n\u001b[0m\u001b[0;32m     17\u001b[0m \u001b[1;33m\u001b[0m\u001b[0m\n",
      "\u001b[1;31mAttributeError\u001b[0m: 'A' object has no attribute 'name'"
     ]
    }
   ],
   "source": [
    "# 8. 类的成员描述符(属性)\n",
    "\n",
    "class A():\n",
    "    def __init__(self):\n",
    "        self.name = 'haha'\n",
    "        self.age = 18\n",
    "\n",
    "a = A()\n",
    "# 属性的3种用法\n",
    "# 1.赋值\n",
    "# 2.读取\n",
    "# 3.删除\n",
    "a.name = 'dongjie'\n",
    "print(a.name)\n",
    "del a.name\n",
    "# 删除后该object就没有name了\n",
    "print(a.name)\n",
    "\n"
   ]
  },
  {
   "cell_type": "code",
   "execution_count": 10,
   "metadata": {},
   "outputs": [
    {
     "name": "stdout",
     "output_type": "stream",
     "text": [
      "haha\n",
      "我被读取了\n",
      "haha\n"
     ]
    }
   ],
   "source": [
    "# 8. 类的成员描述符(属性)\n",
    "# 类属性 property\n",
    "# 应用场景\n",
    "# 对变量除了普通的3种操作，还想增加一些附加的操作，可以使用property完成\n",
    "class A():\n",
    "    def __init__(self):\n",
    "        self.name = 'haha'\n",
    "        self.age = 18\n",
    "    # 此功能是对变量进行读取操作的时候应该执行的函数功能\n",
    "    def fget(self):\n",
    "        print('我被读取了')\n",
    "        return self.name\n",
    "    \n",
    "    # 此功能是对变量进行写操作的时候执行的功能\n",
    "    def fset(self, name):\n",
    "        print('我被写入了，但是还可以执行其他操作')\n",
    "        self.name = 'tlxy: ' + name\n",
    "    \n",
    "    # fdel 模拟的是删除变量的时候进行的操作\n",
    "    def fdel(self):\n",
    "        pass\n",
    "    \n",
    "    # property的4个参数的顺序是固定的\n",
    "    # 第一个参数代表读取的时候调用的函数\n",
    "    # 第二个参数代表写入的时候调用的函数\n",
    "    # 第三个表示删除时调用的的函数\n",
    "    name2 = property(fget, fset, fdel, '这是说明文档')\n",
    "\n",
    "a = A()\n",
    "print(a.name)\n",
    "print(a.name2)"
   ]
  },
  {
   "cell_type": "code",
   "execution_count": 7,
   "metadata": {},
   "outputs": [
    {
     "name": "stdout",
     "output_type": "stream",
     "text": [
      "闻下对方\n",
      "kiss me\n"
     ]
    }
   ],
   "source": [
    "# 抽象\n",
    "# Dog和person打招呼的方式不同，故Animal这边不去定义打招呼的方式，由各自的子类分别自己定义\n",
    "# Animal有sayHello，说明Animal应该有的属性，相当于一个接口，只是不同的子类调用的方式不同\n",
    "class Animal():\n",
    "    def sayHello(self):\n",
    "        pass\n",
    "\n",
    "class Dog(Animal):\n",
    "    def sayHello(self):\n",
    "        print('闻下对方')\n",
    "\n",
    "class Person(Animal):\n",
    "    def sayHello(self):\n",
    "        print('kiss me')\n",
    "\n",
    "d = Dog()\n",
    "d.sayHello()\n",
    "\n",
    "p = Person()\n",
    "p.sayHello()"
   ]
  }
 ],
 "metadata": {
  "kernelspec": {
   "display_name": "Python 3",
   "language": "python",
   "name": "python3"
  },
  "language_info": {
   "codemirror_mode": {
    "name": "ipython",
    "version": 3
   },
   "file_extension": ".py",
   "mimetype": "text/x-python",
   "name": "python",
   "nbconvert_exporter": "python",
   "pygments_lexer": "ipython3",
   "version": "3.7.1"
  }
 },
 "nbformat": 4,
 "nbformat_minor": 2
}
