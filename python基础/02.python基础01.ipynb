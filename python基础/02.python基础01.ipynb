{
 "cells": [
  {
   "cell_type": "markdown",
   "metadata": {
    "collapsed": true
   },
   "source": [
    "# 注释\n",
    "- 机器不去执行注释的内容\n",
    "- 注释一般用自然语言书写\n",
    "- 注释的写法：\n",
    "    - 行注释：以#开头，可以单独行，也可以写在某行code的后面\n",
    "    - 块注释：好几行代码或内容，以三个连续的单引号或双引号开始或结束，中间的任何内容机器都忽略\n",
    "    \n",
    "# 变量\n",
    "- 程序=数据结构+算法\n",
    "- 变量就是可以重复使用的一个量，或者叫一个代号\n",
    "- 变量的命名规则\n",
    "    - 变量命名可以包含数字、大小写字母、下划线或者更多，但是强烈不推荐使用除了前3种符号之外的其他符号\n",
    "    - 数字不可以开头，eg：4man、5for均不可以\n",
    "    - 在python中，以下划线开头的变量具有特殊的含义，不建议使用。eg：_age,_name等不推荐\n",
    "    - 大小写敏感，区分大小写。eg：ForMan和forMan不是一个变量\n",
    "    - 推荐写法：\n",
    "        - 使用具有固定含义的英文单词或者缩写。eg：srv=server skt=socket，一般以posix命名规则为主\n",
    "        - 大驼峰命名法：名称以单词自动连接，且每个单词的首字母大写，在python中给类命名使用此法。eg：MyFirstLove，IntOne\n",
    "        - 小驼峰命名法：和大驼峰类似，但是每个变量的首字母小写。在python种给一般的普通变量或函数命名可以使用此方法。eg:myFirstLove,intOne\n",
    "        - posix写法：多个单词用下划线连接，单词全部小写。eg：my_first_love,int_one\n",
    "    - 保留字和关键字，变量命名必须和关键字、保留字避开，不能重复，eg：class，def，break，for等\n",
    "    "
   ]
  },
  {
   "cell_type": "code",
   "execution_count": 1,
   "metadata": {},
   "outputs": [
    {
     "name": "stdout",
     "output_type": "stream",
     "text": [
      "hello world\n",
      "['False', 'None', 'True', 'and', 'as', 'assert', 'break', 'class', 'continue', 'def', 'del', 'elif', 'else', 'except', 'finally', 'for', 'from', 'global', 'if', 'import', 'in', 'is', 'lambda', 'nonlocal', 'not', 'or', 'pass', 'raise', 'return', 'try', 'while', 'with', 'yield']\n"
     ]
    }
   ],
   "source": [
    "#代码的作用\n",
    "#1.给人看\n",
    "#2.给机器看\n",
    "#注释是纯给人看的内容\n",
    "print('hello world') #打印hello world的内容\n",
    "\n",
    "'''\n",
    "这里面任何内容机器都不管\n",
    "可以写很多行\n",
    "'''\n",
    "\n",
    "# 查看关键字的方法\n",
    "import keyword #引入关键字模块\n",
    "# 打印出系统全部关键字\n",
    "print(keyword.kwlist)\n"
   ]
  },
  {
   "cell_type": "markdown",
   "metadata": {},
   "source": [
    "## 变量声明\n",
    "- var_name = var_value\n",
    "- var1 = var2 = var3 = var_value #从右往左依次赋值\n",
    "- var1, var2, var3 = v1, v2, v3"
   ]
  },
  {
   "cell_type": "code",
   "execution_count": null,
   "metadata": {
    "collapsed": true
   },
   "outputs": [],
   "source": [
    "# 定义变量age，把18放入变量age中\n",
    "age = 18\n",
    "print(age)\n",
    "\n",
    "# 给age1，age2，age3放入相同的内容或值\n",
    "age1 = age2 = age3 = 18\n",
    "print(age1)\n",
    "print(age2)\n",
    "print(age3)\n",
    "\n",
    "# 一行给多个变量赋值\n",
    "age4, age5, age6 = 12, 13, 14\n",
    "print(age4)\n",
    "print(age5)\n",
    "print(age6)"
   ]
  },
  {
   "cell_type": "markdown",
   "metadata": {},
   "source": [
    "## 变量类型\n",
    "- 严格意义上讲，python只有一个类型\n",
    "- 标准数据类型一共6种\n",
    "    - 数字类型number\n",
    "    - 字符串str\n",
    "    - 列表list\n",
    "    - 元组tuple\n",
    "    - 字典dict\n",
    "    - 集合set"
   ]
  },
  {
   "cell_type": "markdown",
   "metadata": {},
   "source": [
    "## number数字类型\n",
    "- 数字类型没有大小限制\n",
    "### 整数\n",
    "- 没有小数部分，表示个数的数字，正整数、0、负整数\n",
    "- 整数分进制的\n",
    "    - 二进制\n",
    "        - 计算机常用，是计算机唯一能理解的数字\n",
    "        - 以0b开头的0,1的代码。eg：0b1111 ,0b10001\n",
    "    - 八进制\n",
    "        - 不常用，以0o开头的包含0-7的数字\n",
    "    - 十进制\n",
    "        - 生活中最常用的\n",
    "    - 十六进制\n",
    "        - 包含0-9，a-f\n",
    "        - 每4位二进制表示一位十六进制\n",
    "        - 以0x开头"
   ]
  },
  {
   "cell_type": "code",
   "execution_count": 5,
   "metadata": {},
   "outputs": [
    {
     "name": "stdout",
     "output_type": "stream",
     "text": [
      "18\n",
      "18\n",
      "18\n",
      "255\n"
     ]
    }
   ],
   "source": [
    "age = 18\n",
    "print(age)\n",
    "\n",
    "age = 0b10010\n",
    "print(age)\n",
    "\n",
    "age = 0o22\n",
    "print(age)\n",
    "\n",
    "age = 0xff # ff即表示二进制的1111 1111\n",
    "print(age)"
   ]
  },
  {
   "cell_type": "markdown",
   "metadata": {},
   "source": [
    "### 浮点数\n",
    "    - 小数\n",
    "    - 计算机里表示浮点数可以省略部分，eg:3.1415, 3.0(3.), 0.5(.5)\n",
    "    - 科学计数法比较推崇，定义和数学里的一样，写法是用e/E后面跟整数表示10的指数\n",
    "        - eg：176.34 == 1.7634e2, 0.876 == 8.76e-1"
   ]
  },
  {
   "cell_type": "code",
   "execution_count": 2,
   "metadata": {},
   "outputs": [
    {
     "name": "stdout",
     "output_type": "stream",
     "text": [
      "156.34\n",
      "0.2\n",
      "2.0\n",
      "0.6\n"
     ]
    }
   ],
   "source": [
    "height = 156.34\n",
    "print(height)\n",
    "\n",
    "sight = 0.2\n",
    "print(sight)\n",
    "\n",
    "sight = 2.\n",
    "print(sight)\n",
    "\n",
    "sight = .6\n",
    "print(sight)"
   ]
  },
  {
   "cell_type": "markdown",
   "metadata": {},
   "source": [
    "### 复数complex\n",
    "- 定义和数学里一样，由实部和虚部表示的数字\n",
    "- 虚部用j/J表示，eg:5+3j,3j,(3j)"
   ]
  },
  {
   "cell_type": "markdown",
   "metadata": {},
   "source": [
    "### 布尔值\n",
    "- 表示真或假的值，\n",
    "- 只有2个值，True/False(注意首字母大写)\n",
    "- 布尔值可以和数字里的1和0直接操作"
   ]
  },
  {
   "cell_type": "code",
   "execution_count": 3,
   "metadata": {},
   "outputs": [
    {
     "name": "stdout",
     "output_type": "stream",
     "text": [
      "19\n"
     ]
    }
   ],
   "source": [
    "# 布尔值运算\n",
    "age = 18 + True\n",
    "print(age)"
   ]
  },
  {
   "cell_type": "markdown",
   "metadata": {},
   "source": [
    "## 字符串\n",
    "- 用来表示一串文字信息\n",
    "- 表示方法：\n",
    "    - 单引号/双引号,只能表示一行内容，不能跨行\n",
    "    - 三引号（三个单引号或者三个双引号），能够支持多行信息\n",
    "- 一些特殊场合需要单双引号交替使用"
   ]
  },
  {
   "cell_type": "code",
   "execution_count": 7,
   "metadata": {},
   "outputs": [
    {
     "name": "stdout",
     "output_type": "stream",
     "text": [
      "i love wangxiaoli\n",
      "我爱王晓丽\n",
      "\n",
      "i love wangxiaoli\n",
      "我爱王晓丽\n",
      "呵呵呵\n",
      "\n",
      "I'm angus\n"
     ]
    }
   ],
   "source": [
    "love = 'i love wangxiaoli'\n",
    "print(love)\n",
    "\n",
    "love = \"我爱王晓丽\"\n",
    "print(love)\n",
    "\n",
    "# 单双引号交替使用的例子\n",
    "html = '<a style=\"color:red\">呵呵</a>'\n",
    "\n",
    "# 三引号的例子\n",
    "htmls = '''\n",
    "i love wangxiaoli\n",
    "我爱王晓丽\n",
    "呵呵呵\n",
    "'''\n",
    "print(htmls)\n",
    "# 使用\\来转义\n",
    "my_info = 'I\\'m angus'\n",
    "print(my_info)"
   ]
  }
 ],
 "metadata": {
  "kernelspec": {
   "display_name": "Python 3",
   "language": "python",
   "name": "python3"
  },
  "language_info": {
   "codemirror_mode": {
    "name": "ipython",
    "version": 3
   },
   "file_extension": ".py",
   "mimetype": "text/x-python",
   "name": "python",
   "nbconvert_exporter": "python",
   "pygments_lexer": "ipython3",
   "version": "3.6.3"
  }
 },
 "nbformat": 4,
 "nbformat_minor": 2
}
