{
 "cells": [
  {
   "cell_type": "markdown",
   "metadata": {},
   "source": [
    "# 关于元组的函数\n"
   ]
  },
  {
   "cell_type": "code",
   "execution_count": 9,
   "metadata": {},
   "outputs": [
    {
     "data": {
      "text/plain": [
       "5"
      ]
     },
     "execution_count": 9,
     "metadata": {},
     "output_type": "execute_result"
    }
   ],
   "source": [
    "# len:获取长度\n",
    "t = (1,2,3,4,4)\n",
    "len(t)"
   ]
  },
  {
   "cell_type": "code",
   "execution_count": 10,
   "metadata": {},
   "outputs": [
    {
     "name": "stdout",
     "output_type": "stream",
     "text": [
      "4\n",
      "1\n"
     ]
    }
   ],
   "source": [
    "# max,min最大值最小值\n",
    "print(max(t))\n",
    "print(min(t))"
   ]
  },
  {
   "cell_type": "code",
   "execution_count": 17,
   "metadata": {},
   "outputs": [
    {
     "name": "stdout",
     "output_type": "stream",
     "text": [
      "(1, 2, 3, 4, 5)\n",
      "()\n"
     ]
    }
   ],
   "source": [
    "# tuple:转换或创建元组\n",
    "l = [1,2,3,4,5]\n",
    "t = tuple(l)\n",
    "print(t)\n",
    "\n",
    "t1 = tuple()\n",
    "print(t1)"
   ]
  },
  {
   "cell_type": "markdown",
   "metadata": {},
   "source": [
    "## tuple function\n"
   ]
  },
  {
   "cell_type": "code",
   "execution_count": 22,
   "metadata": {},
   "outputs": [
    {
     "name": "stdout",
     "output_type": "stream",
     "text": [
      "2\n",
      "1\n",
      "0\n"
     ]
    }
   ],
   "source": [
    "# count: 计算指定数据出现的次数\n",
    "t = (2,1,2,3,4,5,5)\n",
    "print(t.count(5))\n",
    "\n",
    "# index:求指定元素在元组中的索引位置\n",
    "print(t.index(1))\n",
    "# 如果要查找的元素有多个，则返回第一个\n",
    "print(t.index(2))"
   ]
  },
  {
   "cell_type": "markdown",
   "metadata": {},
   "source": [
    "# #元组变量交换法\n",
    "- 两个变量交换值\n"
   ]
  },
  {
   "cell_type": "code",
   "execution_count": 23,
   "metadata": {},
   "outputs": [
    {
     "name": "stdout",
     "output_type": "stream",
     "text": [
      "1\n",
      "3\n",
      "3\n",
      "1\n"
     ]
    }
   ],
   "source": [
    "# 2个变量交换值\n",
    "a = 1\n",
    "b = 3\n",
    "print(a)\n",
    "print(b)\n",
    "a,b = b,a\n",
    "print(a)\n",
    "print(b)"
   ]
  },
  {
   "cell_type": "markdown",
   "metadata": {},
   "source": [
    "# 集合 set\n",
    "- 一堆确定的无序的唯一的数据，集合中的每一个数据都称为一个元素\n",
    "- 集合内数据无序，无法使用索引和分片\n",
    "- 集合内部数据元素具有唯一性，可以用来排除重复数据\n",
    "- 集合内的数据，str,int,float,tuple等，即内部职能放可哈希数据"
   ]
  },
  {
   "cell_type": "code",
   "execution_count": 26,
   "metadata": {},
   "outputs": [
    {
     "name": "stdout",
     "output_type": "stream",
     "text": [
      "<class 'set'>\n",
      "set()\n",
      "{1, 2, 3, 4, 5}\n",
      "<class 'set'>\n",
      "<class 'dict'>\n",
      "{}\n"
     ]
    }
   ],
   "source": [
    "# 集合的定义\n",
    "s = set()\n",
    "print(type(s))\n",
    "print(s)\n",
    "\n",
    "s = {1,2,3,4,5}\n",
    "print(s)\n",
    "print(type(s))\n",
    "\n",
    "# 如果大括号里没有内容，则表示字典\n",
    "d = {}\n",
    "print(type(d))\n",
    "print(d)"
   ]
  },
  {
   "cell_type": "code",
   "execution_count": 29,
   "metadata": {},
   "outputs": [
    {
     "name": "stdout",
     "output_type": "stream",
     "text": [
      "{1, 2, 3, 'wangmeili', 'i', 'love'}\n",
      "1\n",
      "0\n"
     ]
    }
   ],
   "source": [
    "# 成员检测\n",
    "# in, not in 和list tuple使用方法一样\n",
    "s = {1,2,3,'i','love','wangmeili'}\n",
    "print(s)\n",
    "if 2 in s:\n",
    "    print(1)\n",
    "if 4 not in s:\n",
    "    print(0)"
   ]
  },
  {
   "cell_type": "code",
   "execution_count": 32,
   "metadata": {},
   "outputs": [
    {
     "name": "stdout",
     "output_type": "stream",
     "text": [
      "1 2 3 wangmeili i love "
     ]
    }
   ],
   "source": [
    "# set的遍历\n",
    "# 使用for循环\n",
    "s = {1,2,3,'i','love','wangmeili'}\n",
    "for i in s:\n",
    "    print(i, end = ' ')"
   ]
  },
  {
   "cell_type": "markdown",
   "metadata": {},
   "source": [
    "## 集合的内涵"
   ]
  },
  {
   "cell_type": "code",
   "execution_count": 42,
   "metadata": {},
   "outputs": [
    {
     "name": "stdout",
     "output_type": "stream",
     "text": [
      "{2, 3, 4, 5, 6, 7}\n",
      "{2, 3, 4, 5, 6, 7}\n",
      "{2, 4, 6}\n",
      "{'iii', 'wangxiaojingwangxiaojing', 'wangxiaojing', 'ii', 'wangxiaojingwangxiaojingwangxiaojing', 'i', 'lovelovelove', 'lovelove', 'love'}\n",
      "{'wangxiaojingwangxiaojing', 'lovelove', 'ii'}\n"
     ]
    }
   ],
   "source": [
    "# 普通函数内涵,会自动过滤掉重复元素\n",
    "s = {2,2,3,3,3,4,5,6,7,7}\n",
    "print(s)\n",
    "\n",
    "ss ={i for i in s}\n",
    "print(ss)\n",
    "\n",
    "# 多条件的集合内涵\n",
    "sss = {i for i in s if i % 2 == 0}\n",
    "print(sss)\n",
    "\n",
    "# 多循环的集合内涵\n",
    "s1 = {'i','love','wangxiaojing'}\n",
    "s2 ={1,2,3}\n",
    "\n",
    "\n",
    "s = {m*n for m in s1 for n in s2 }\n",
    "print(s)\n",
    "\n",
    "s = {m*n for m in s1 for n in s2 if n == 2}\n",
    "print(s)"
   ]
  },
  {
   "cell_type": "markdown",
   "metadata": {},
   "source": [
    "## 集合函数/关于集合的函数"
   ]
  },
  {
   "cell_type": "code",
   "execution_count": 44,
   "metadata": {},
   "outputs": [
    {
     "name": "stdout",
     "output_type": "stream",
     "text": [
      "{3, 4, 11, 22, 55}\n"
     ]
    }
   ],
   "source": [
    "# len,max,min和其他基本一样\n",
    "# set：生成一个集合\n",
    "l = [11,22,22,3,4,55,55]\n",
    "s = set(l)\n",
    "print(s)"
   ]
  },
  {
   "cell_type": "code",
   "execution_count": 45,
   "metadata": {},
   "outputs": [
    {
     "name": "stdout",
     "output_type": "stream",
     "text": [
      "{1, 34}\n"
     ]
    }
   ],
   "source": [
    "# add: 向集合添加元素，因为set是无序的，无法使用append和insert\n",
    "s = {1}\n",
    "s.add(34)\n",
    "print(s)\n"
   ]
  },
  {
   "cell_type": "code",
   "execution_count": 46,
   "metadata": {},
   "outputs": [
    {
     "name": "stdout",
     "output_type": "stream",
     "text": [
      "83578440\n",
      "set()\n",
      "83578440\n"
     ]
    }
   ],
   "source": [
    "# clear, 清空的是原set的数据，故id不变\n",
    "s = {1,2,3}\n",
    "print(id(s))\n",
    "s.clear()\n",
    "print(s)\n",
    "print(id(s))"
   ]
  },
  {
   "cell_type": "code",
   "execution_count": 6,
   "metadata": {},
   "outputs": [
    {
     "name": "stdout",
     "output_type": "stream",
     "text": [
      "{2, 3, 55, 666, 222}\n",
      "{3, 55, 666, 222}\n",
      "********************\n",
      "{3, 55, 666, 222}\n"
     ]
    },
    {
     "ename": "KeyError",
     "evalue": "1000",
     "output_type": "error",
     "traceback": [
      "\u001b[1;31m---------------------------------------------------------------------------\u001b[0m",
      "\u001b[1;31mKeyError\u001b[0m                                  Traceback (most recent call last)",
      "\u001b[1;32m<ipython-input-6-ca3c713fcefb>\u001b[0m in \u001b[0;36m<module>\u001b[1;34m()\u001b[0m\n\u001b[0;32m     10\u001b[0m \u001b[0ms\u001b[0m\u001b[1;33m.\u001b[0m\u001b[0mdiscard\u001b[0m\u001b[1;33m(\u001b[0m\u001b[1;36m1000\u001b[0m\u001b[1;33m)\u001b[0m\u001b[1;33m\u001b[0m\u001b[0m\n\u001b[0;32m     11\u001b[0m \u001b[0mprint\u001b[0m\u001b[1;33m(\u001b[0m\u001b[0ms\u001b[0m\u001b[1;33m)\u001b[0m\u001b[1;33m\u001b[0m\u001b[0m\n\u001b[1;32m---> 12\u001b[1;33m \u001b[0ms\u001b[0m\u001b[1;33m.\u001b[0m\u001b[0mremove\u001b[0m\u001b[1;33m(\u001b[0m\u001b[1;36m1000\u001b[0m\u001b[1;33m)\u001b[0m\u001b[1;33m\u001b[0m\u001b[0m\n\u001b[0m\u001b[0;32m     13\u001b[0m \u001b[0mprint\u001b[0m\u001b[1;33m(\u001b[0m\u001b[0ms\u001b[0m\u001b[1;33m)\u001b[0m\u001b[1;33m\u001b[0m\u001b[0m\n",
      "\u001b[1;31mKeyError\u001b[0m: 1000"
     ]
    }
   ],
   "source": [
    "# copy\n",
    "# remove:移除指定的值,直接改变原有值，如果要删除的值不存在，则报错\n",
    "# discard：移除集合中指定的值。和remove一样，但是如果要删除的值不存在，不会报错\n",
    "s = {2,3,4,55,222,666}\n",
    "s.remove(4)\n",
    "print(s)\n",
    "s.discard(2)\n",
    "print(s)\n",
    "\n",
    "print('*' * 20)\n",
    "# 可以看到discard不会报错，但是remove会报错\n",
    "s.discard(1000)\n",
    "print(s)\n",
    "s.remove(1000)\n",
    "print(s)"
   ]
  },
  {
   "cell_type": "code",
   "execution_count": 7,
   "metadata": {},
   "outputs": [
    {
     "name": "stdout",
     "output_type": "stream",
     "text": [
      "1\n",
      "{2, 3, 4, 6, 7}\n"
     ]
    }
   ],
   "source": [
    "# pop随机移除一个元素\n",
    "s = {3,4,2,1,6,7}\n",
    "d = s.pop()\n",
    "print(d)\n",
    "print(s)"
   ]
  },
  {
   "cell_type": "code",
   "execution_count": 13,
   "metadata": {},
   "outputs": [
    {
     "name": "stdout",
     "output_type": "stream",
     "text": [
      "{4, 5, 6}\n",
      "{1, 2, 3}\n",
      "{1, 2, 3, 4, 5, 6, 7, 8, 9}\n",
      "False\n"
     ]
    }
   ],
   "source": [
    "# 集合函数\n",
    "# intersection：交集\n",
    "# difference：差集\n",
    "# union：并集\n",
    "# issubset: 检查一个集合是否为另一个的子集\n",
    "# issuperset：检查一个集合是否为另一个的超集\n",
    "s1 = {1,2,3,4,5,6}\n",
    "s2 = {4,5,6,7,8,9}\n",
    "\n",
    "s_1 = s1.intersection(s2)\n",
    "print(s_1)\n",
    "\n",
    "s_2 = s1.difference(s2)\n",
    "print(s_2)\n",
    "\n",
    "s_3 = s1.union(s2)\n",
    "print(s_3)\n",
    "\n",
    "s_4 = s1.issubset(s2)\n",
    "print(s_4)\n"
   ]
  },
  {
   "cell_type": "code",
   "execution_count": 18,
   "metadata": {},
   "outputs": [
    {
     "name": "stdout",
     "output_type": "stream",
     "text": [
      "{1, 2, 3}\n",
      "{1, 2, 3, 4, 5, 6, 7, 8, 9}\n"
     ]
    }
   ],
   "source": [
    "# 集合的数学操作\n",
    "s1 = {1,2,3,4,5,6}\n",
    "s2 = {4,5,6,7,8,9}\n",
    "\n",
    "s_1 = s1 - s2\n",
    "print(s_1)\n",
    "\n",
    "s_2 = s1 | s2\n",
    "print(s_2)\n"
   ]
  },
  {
   "cell_type": "markdown",
   "metadata": {},
   "source": [
    "##  forzen set:冰冻集合\n",
    "- 不能修改的集合称为frozen set，是一种特殊的集合"
   ]
  },
  {
   "cell_type": "code",
   "execution_count": 24,
   "metadata": {},
   "outputs": [
    {
     "name": "stdout",
     "output_type": "stream",
     "text": [
      "<class 'frozenset'>\n",
      "frozenset()\n"
     ]
    }
   ],
   "source": [
    "# frozen set的操作\n",
    "# 创建\n",
    "s = frozenset()\n",
    "print(type(s))\n",
    "print(s)"
   ]
  },
  {
   "cell_type": "markdown",
   "metadata": {},
   "source": [
    "# dict 字典\n",
    "- 字典是一种组合数据，没有顺序的组合数据，数据以键值对（key-value）的形式存在。\n",
    "- 字典是序列类型，但是是无序序列，所有没有分片和索引\n",
    "- 字典中的数据每个都是键值对（key value）组成的\n",
    "    - key: 必须是可哈希的，例如：int,float,string,tuple等。list,set,dict 等不行\n",
    "    - value：任何值"
   ]
  },
  {
   "cell_type": "code",
   "execution_count": 27,
   "metadata": {},
   "outputs": [
    {
     "name": "stdout",
     "output_type": "stream",
     "text": [
      "<class 'dict'>\n",
      "{}\n",
      "<class 'dict'>\n",
      "{'one': 1, 'two': 2, 'three': 3}\n"
     ]
    }
   ],
   "source": [
    "# 字典的创建\n",
    "# 创建空字典\n",
    "d = {}\n",
    "print(type(d))\n",
    "print(d)\n",
    "\n",
    "# 创建有值的字典\n",
    "d = {'one':1,'two':2,'three':3}\n",
    "print(type(d))\n",
    "print(d)"
   ]
  },
  {
   "cell_type": "markdown",
   "metadata": {},
   "source": [
    "## 字典的常见操作"
   ]
  },
  {
   "cell_type": "code",
   "execution_count": 30,
   "metadata": {},
   "outputs": [
    {
     "name": "stdout",
     "output_type": "stream",
     "text": [
      "2\n",
      "{'one': '一', 'two': 2, 'three': 3}\n",
      "{'one': '一', 'three': 3}\n"
     ]
    }
   ],
   "source": [
    "# 访问数据\n",
    "d = {'one':1,'two':2,'three':3}\n",
    "# 中括号中间的是key\n",
    "print(d['two'])\n",
    "\n",
    "# 修改某个key对应的value\n",
    "d['one'] = '一'\n",
    "print(d)\n",
    "\n",
    "# 删除某个操作，使用del删除\n",
    "del d['two']\n",
    "print(d)"
   ]
  },
  {
   "cell_type": "code",
   "execution_count": 31,
   "metadata": {},
   "outputs": [
    {
     "name": "stdout",
     "output_type": "stream",
     "text": [
      "k\n"
     ]
    }
   ],
   "source": [
    "# 成员检测， in , not in\n",
    "# 成员检测只会检测key的内容，不会检测value\n",
    "# 下面的示例中，对value或者kv的检测都无效，只有对key检测才有效\n",
    "d = {'one':1,'two':2,'three':3}\n",
    "if 2 in d:\n",
    "    print('v')\n",
    "if 'two' in d:\n",
    "    print('k')\n",
    "if ('two',2) in d:\n",
    "    print('kv')\n"
   ]
  },
  {
   "cell_type": "code",
   "execution_count": 39,
   "metadata": {},
   "outputs": [
    {
     "name": "stdout",
     "output_type": "stream",
     "text": [
      "one two three \n",
      "**********\n",
      "1 2 3 \n",
      "**********\n",
      "one 1\n",
      "two 2\n",
      "three 3\n"
     ]
    }
   ],
   "source": [
    "# 成员的遍历，python2和python3不通用，以python3为准\n",
    "d = {'one':1,'two':2,'three':3}\n",
    "\n",
    "# 对key进行遍历\n",
    "for k in d.keys():\n",
    "    print(k, end = ' ')\n",
    "print()\n",
    "print('*' * 10)\n",
    "\n",
    "# 对value进行遍历\n",
    "for v in d.values():\n",
    "    print(v, end = ' ')\n",
    "print()\n",
    "print('*' * 10)\n",
    "\n",
    "# 对kv进行遍历\n",
    "for k,v in d.items():\n",
    "    print(k,v)"
   ]
  },
  {
   "cell_type": "markdown",
   "metadata": {},
   "source": [
    "## 字典生成式"
   ]
  },
  {
   "cell_type": "code",
   "execution_count": 41,
   "metadata": {},
   "outputs": [
    {
     "name": "stdout",
     "output_type": "stream",
     "text": [
      "{'one': 1, 'two': 2, 'three': 3}\n",
      "{'two': 2}\n"
     ]
    }
   ],
   "source": [
    "d = {'one':1,'two':2,'three':3}\n",
    "\n",
    "# 常规字典生成式\n",
    "dd = {k:v for k,v in d.items()}\n",
    "print(dd)\n",
    "\n",
    "# 加限制条件的字典生成式\n",
    "ddd = {k:v for k,v in d.items() if v % 2 == 0}\n",
    "print(ddd)"
   ]
  },
  {
   "cell_type": "markdown",
   "metadata": {},
   "source": [
    "## 字典相关函数"
   ]
  },
  {
   "cell_type": "code",
   "execution_count": 44,
   "metadata": {},
   "outputs": [
    {
     "name": "stdout",
     "output_type": "stream",
     "text": [
      "{'one': 1, 'two': 2, 'three': 3}\n",
      "<class 'dict'>\n",
      "{'one': 1, 'two': 2, 'three': 3}\n",
      "<class 'str'>\n"
     ]
    }
   ],
   "source": [
    "# 通用函数：len,man,min,dict\n",
    "d = {'one':1,'two':2,'three':3}\n",
    "print(d)\n",
    "print(type(d))\n",
    "\n",
    "# str(dict)\n",
    "s = str(d)\n",
    "print(s)\n",
    "print(type(s))"
   ]
  },
  {
   "cell_type": "code",
   "execution_count": 45,
   "metadata": {},
   "outputs": [
    {
     "name": "stdout",
     "output_type": "stream",
     "text": [
      "<class 'dict_items'>\n",
      "dict_items([('one', 1), ('two', 2), ('three', 3)])\n"
     ]
    }
   ],
   "source": [
    "# clear：清空字典\n",
    "# items():返回字典的kv对组成的元组格式\n",
    "d = {'one':1,'two':2,'three':3}\n",
    "i = d.items()\n",
    "print(type(i))\n",
    "print(i)"
   ]
  },
  {
   "cell_type": "code",
   "execution_count": 46,
   "metadata": {},
   "outputs": [
    {
     "name": "stdout",
     "output_type": "stream",
     "text": [
      "<class 'dict_keys'>\n",
      "dict_keys(['one', 'two', 'three'])\n"
     ]
    }
   ],
   "source": [
    "# keys:返回字典的key组成的一个结构\n",
    "k = d.keys()\n",
    "print(type(k))\n",
    "print(k)"
   ]
  },
  {
   "cell_type": "code",
   "execution_count": 47,
   "metadata": {},
   "outputs": [
    {
     "name": "stdout",
     "output_type": "stream",
     "text": [
      "<class 'dict_values'>\n",
      "dict_values([1, 2, 3])\n"
     ]
    }
   ],
   "source": [
    "# values:返回字典的value组成的一个结构\n",
    "v = d.values()\n",
    "print(type(v))\n",
    "print(v)"
   ]
  },
  {
   "cell_type": "code",
   "execution_count": 54,
   "metadata": {},
   "outputs": [
    {
     "name": "stdout",
     "output_type": "stream",
     "text": [
      "1\n",
      "100\n",
      "********************\n",
      "1\n",
      "1\n",
      "********************\n",
      "None\n"
     ]
    },
    {
     "ename": "KeyError",
     "evalue": "'four'",
     "output_type": "error",
     "traceback": [
      "\u001b[1;31m---------------------------------------------------------------------------\u001b[0m",
      "\u001b[1;31mKeyError\u001b[0m                                  Traceback (most recent call last)",
      "\u001b[1;32m<ipython-input-54-ec3fad960b00>\u001b[0m in \u001b[0;36m<module>\u001b[1;34m()\u001b[0m\n\u001b[0;32m     12\u001b[0m \u001b[1;31m# 对于不存在的key，get返回None，不会报错；直接使用会报错。\u001b[0m\u001b[1;33m\u001b[0m\u001b[1;33m\u001b[0m\u001b[0m\n\u001b[0;32m     13\u001b[0m \u001b[0mprint\u001b[0m\u001b[1;33m(\u001b[0m\u001b[0md\u001b[0m\u001b[1;33m.\u001b[0m\u001b[0mget\u001b[0m\u001b[1;33m(\u001b[0m\u001b[1;34m'four'\u001b[0m\u001b[1;33m)\u001b[0m\u001b[1;33m)\u001b[0m\u001b[1;33m\u001b[0m\u001b[0m\n\u001b[1;32m---> 14\u001b[1;33m \u001b[0mprint\u001b[0m\u001b[1;33m(\u001b[0m\u001b[0md\u001b[0m\u001b[1;33m[\u001b[0m\u001b[1;34m'four'\u001b[0m\u001b[1;33m]\u001b[0m\u001b[1;33m)\u001b[0m\u001b[1;33m\u001b[0m\u001b[0m\n\u001b[0m",
      "\u001b[1;31mKeyError\u001b[0m: 'four'"
     ]
    }
   ],
   "source": [
    "# get:根据指定的key返回相应的value。好处是可以设置默认值\n",
    "d = {'one':1,'two':2,'three':3}\n",
    "\n",
    "#设置默认值，如果可以查询到key对应的value，则返回value；如查询不到则返回后面的默认值\n",
    "print(d.get('one',100))\n",
    "print(d.get('four',100))\n",
    "print('*' * 20)\n",
    "\n",
    "print(d.get('one'))\n",
    "print(d['one'])\n",
    "print('*' * 20)\n",
    "\n",
    "# 对于不存在的key，get返回None，不会报错；直接使用会报错。\n",
    "print(d.get('four'))\n",
    "print(d['four'])\n",
    "\n"
   ]
  },
  {
   "cell_type": "code",
   "execution_count": 66,
   "metadata": {},
   "outputs": [
    {
     "name": "stdout",
     "output_type": "stream",
     "text": [
      "{'yi': 1, 'er': 1, 'san': 1}\n"
     ]
    }
   ],
   "source": [
    "# fromkeys:使用指定的序列作为key，使用一个值作为所有key对应的value\n",
    "# fromkeys的2个参数的类型，l可以为list，tuple等；后面一个参数可以为int,float,str等\n",
    "# fromkeys的调用主体为dict函数\n",
    "l=['yi','er','san']\n",
    "d = dict.fromkeys(l,1)\n",
    "print(d)\n"
   ]
  }
 ],
 "metadata": {
  "kernelspec": {
   "display_name": "Python 3",
   "language": "python",
   "name": "python3"
  },
  "language_info": {
   "codemirror_mode": {
    "name": "ipython",
    "version": 3
   },
   "file_extension": ".py",
   "mimetype": "text/x-python",
   "name": "python",
   "nbconvert_exporter": "python",
   "pygments_lexer": "ipython3",
   "version": "3.6.5"
  }
 },
 "nbformat": 4,
 "nbformat_minor": 2
}
