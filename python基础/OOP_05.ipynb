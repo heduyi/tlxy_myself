{
 "cells": [
  {
   "cell_type": "code",
   "execution_count": 3,
   "metadata": {},
   "outputs": [
    {
     "name": "stdout",
     "output_type": "stream",
     "text": [
      "Hi, my name is HE DONGJIE\n",
      "Hi, my name is BART LIM\n"
     ]
    }
   ],
   "source": [
    "# 属性案例（8.类的成员描述符（属性））\n",
    "# 创建Student类，描述学生类，学生具有Student.name属性，但是输入的name格式不统一\n",
    "# 可以通过增加一个函数，然后自动调用的方法实现，但是很繁琐\n",
    "\n",
    "class Student():\n",
    "    def __init__(self, name, age):\n",
    "        self.name = name\n",
    "        self.age = age\n",
    "        \n",
    "        # 调用下面的将name大写的函数\n",
    "        self.setName(name)\n",
    "    \n",
    "    # 介绍下自己     \n",
    "    def intro(self):\n",
    "        print('Hi, my name is {0}'.format(self.name))\n",
    "    \n",
    "    # 增加一个函数，将name大写\n",
    "    def setName(self, name):\n",
    "        self.name = name.upper()\n",
    "    \n",
    "s1 = Student('HE Dongjie',20)\n",
    "s2 = Student('bart lim',21)\n",
    "\n",
    "s1.intro()\n",
    "s2.intro()"
   ]
  },
  {
   "cell_type": "code",
   "execution_count": 8,
   "metadata": {},
   "outputs": [
    {
     "name": "stdout",
     "output_type": "stream",
     "text": [
      "DONGJIEDONGJIE\n"
     ]
    }
   ],
   "source": [
    "# 属性案例（property函数方法）（8.类的成员描述符（属性））\n",
    "# 定义一个Person类，具有name，age属性\n",
    "# 对于任意输入的姓名，我们都用大写方式保存\n",
    "# 对于输入的年龄，都用整数方式保存\n",
    "# x = property(fget, fset, fdel, doc)\n",
    "class Person():\n",
    "    '''\n",
    "    该类的doc信息\n",
    "    这是一个描述人的类，包含name属性和age属性\n",
    "    '''\n",
    "    # 函数的名称是任意的\n",
    "    def fget(self):\n",
    "        return self._name * 2\n",
    "    \n",
    "    def fset(self, name):\n",
    "        # 所有输入的姓名都以大写方式保存\n",
    "        self._name = name.upper()\n",
    "    \n",
    "    def fdel(self):\n",
    "        self._name = 'NoName'\n",
    "    \n",
    "    name = property(fget, fset, fdel, '对name进行操作啦！')\n",
    "\n",
    "p1 = Person()\n",
    "# 会先调用到fset，将输入大写\n",
    "p1.name = 'dongjie'\n",
    "# print为读取，故会调用到fget，将name复制一份\n",
    "print(p1.name)\n",
    "    \n",
    "# 作业\n",
    "# 1.在用户输入年龄的时候，可以输入整数、小数、浮点数\n",
    "# 2.但是为了数据清洗，统一使用整数保存，直接舍去小数部分 \n"
   ]
  },
  {
   "cell_type": "code",
   "execution_count": 12,
   "metadata": {},
   "outputs": [
    {
     "name": "stdout",
     "output_type": "stream",
     "text": [
      "{'__module__': '__main__', '__doc__': '\\n    该类的doc信息\\n    这是一个描述人的类，包含name属性和age属性\\n    ', 'fget': <function Person.fget at 0x00000000053B2268>, 'fset': <function Person.fset at 0x00000000053B2598>, 'fdel': <function Person.fdel at 0x0000000005663E18>, 'name': <property object at 0x00000000056F60E8>, '__dict__': <attribute '__dict__' of 'Person' objects>, '__weakref__': <attribute '__weakref__' of 'Person' objects>}\n",
      "********************\n",
      "\n",
      "    该类的doc信息\n",
      "    这是一个描述人的类，包含name属性和age属性\n",
      "    \n",
      "********************\n",
      "Person\n",
      "********************\n",
      "(<class 'object'>,)\n"
     ]
    }
   ],
   "source": [
    "# 类的内置属性举例\n",
    "# 以字典的方式显示类的成员组成\n",
    "print(Person.__dict__)\n",
    "print('*' * 20)\n",
    "# 获取类的文档信息，即Person类的描述信息\n",
    "print(Person.__doc__)\n",
    "print('*' * 20)\n",
    "# 显示该类的名称\n",
    "print(Person.__name__)\n",
    "print('*' * 20)\n",
    "# 显示该类的所有的父类，以元组方式呈现\n",
    "print(Person.__bases__)"
   ]
  },
  {
   "cell_type": "code",
   "execution_count": 15,
   "metadata": {},
   "outputs": [
    {
     "name": "stdout",
     "output_type": "stream",
     "text": [
      "hi, I am dongjie\n"
     ]
    }
   ],
   "source": [
    "# __init__举例\n",
    "\n",
    "class Person():\n",
    "    def __init__(self, name = 'Noname'):\n",
    "        print('hi, I am dongjie')\n",
    "a = Person()"
   ]
  },
  {
   "cell_type": "code",
   "execution_count": 19,
   "metadata": {},
   "outputs": [
    {
     "name": "stdout",
     "output_type": "stream",
     "text": [
      "Hi, I am dongjie\n",
      "Hi, I am dongjie2\n"
     ]
    }
   ],
   "source": [
    "# __call__举例\n",
    "class Person():\n",
    "    def __init__(self, name = 'Noname'):\n",
    "        print('Hi, I am dongjie')\n",
    "    \n",
    "    def __call__(self):\n",
    "        print('Hi, I am dongjie2')\n",
    "a = Person()\n",
    "\n",
    "# 直接调用实例a()，会报错“对象TypeError: 'Person' object is not callable”\n",
    "# 增加一个__call__的魔术方法后，把实例当函数调用，会自动执行__call__函数\n",
    "a()\n"
   ]
  },
  {
   "cell_type": "code",
   "execution_count": 5,
   "metadata": {},
   "outputs": [
    {
     "name": "stdout",
     "output_type": "stream",
     "text": [
      "Hi, I am dongjie\n",
      "我是个pythoner\n"
     ]
    }
   ],
   "source": [
    "# __str__举例\n",
    "class Person():\n",
    "    def __init__(self, name = 'Noname'):\n",
    "        print('Hi, I am dongjie')\n",
    "    \n",
    "    def __str__(self):\n",
    "        return '我是个pythoner'\n",
    "\n",
    "a = Person()\n",
    "\n",
    "# 当实例对象被当作字符串使用的时候会自动调用__str__函数\n",
    "print(a)\n"
   ]
  },
  {
   "cell_type": "code",
   "execution_count": 14,
   "metadata": {},
   "outputs": [
    {
     "name": "stdout",
     "output_type": "stream",
     "text": [
      "NoName\n",
      "18\n",
      "没找到\n"
     ]
    }
   ],
   "source": [
    "# __getattr__\n",
    "\n",
    "class A():\n",
    "    name = 'NoName'\n",
    "    age = 18\n",
    "    \n",
    "    def __getattr__(self,name):\n",
    "        return '没找到'\n",
    "\n",
    "a = A()\n",
    "print(a.name)\n",
    "print(a.age)\n",
    "# 当调用的属性不存在时，会自动的调用__getattr__函数，避免报错\n",
    "print(a.addr)\n",
    "\n",
    "    "
   ]
  }
 ],
 "metadata": {
  "kernelspec": {
   "display_name": "Python 3",
   "language": "python",
   "name": "python3"
  },
  "language_info": {
   "codemirror_mode": {
    "name": "ipython",
    "version": 3
   },
   "file_extension": ".py",
   "mimetype": "text/x-python",
   "name": "python",
   "nbconvert_exporter": "python",
   "pygments_lexer": "ipython3",
   "version": "3.7.1"
  }
 },
 "nbformat": 4,
 "nbformat_minor": 2
}
