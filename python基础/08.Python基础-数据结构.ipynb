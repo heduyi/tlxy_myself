{
 "cells": [
  {
   "cell_type": "markdown",
   "metadata": {},
   "source": [
    "# 汉诺塔问题\n",
    "- 规则：\n",
    "    - 1.有3个塔架子，ABC，其中A上面有一些盘子，最终全部移动到C\n",
    "    - 2.每次移动一个盘子\n",
    "    - 3.任何时候大盘子在下面，小盘子在上面\n",
    "- 方法：\n",
    "    - 1.n=1：直接把A上的一个盘子移动到C上，A->C\n",
    "    - 2.n=2:\n",
    "        - 把小盘子从A放到B，A->B\n",
    "        - 把大盘子从A放到C，A->C\n",
    "        - 把小盘子从B放到C，B->C\n",
    "    - 3.n=n:\n",
    "        - 把A上的n-1个盘子，借助于C，移动到B上去，调用递归\n",
    "        - 把A上的最大的盘子，也是最后一个移动到C上，A->C\n",
    "        - 把B上的n-1个盘子，借助于A，移动到C上，调用递归\n"
   ]
  },
  {
   "cell_type": "code",
   "execution_count": 1,
   "metadata": {},
   "outputs": [
    {
     "name": "stdout",
     "output_type": "stream",
     "text": [
      "A --> C\n"
     ]
    }
   ],
   "source": [
    "def hano(n,a,b,c):\n",
    "    '''\n",
    "    汉诺塔的递归实现\n",
    "    n：代表需要移动的盘子的数量\n",
    "    a：代表第一个塔，开始的塔\n",
    "    b：代表第二个塔，中间的过度塔\n",
    "    c：代表第三个塔，目标塔\n",
    "    '''\n",
    "    if n == 1:\n",
    "        print(a,'-->',c)\n",
    "        return None\n",
    "    \n",
    "    # n = 2的时候可以省略，直接合并到了下面的函数中了\n",
    "    if n == 2:\n",
    "        print(a,'-->',b)\n",
    "        print(a,'-->',c)\n",
    "        print(b,'-->',c)\n",
    "        return None\n",
    "    \n",
    "    # 把n-1个盘子，从a塔，借助于c塔，移动到b塔\n",
    "    hano(n-1,a,c,b)\n",
    "    #把a塔上的最后一个最大的盘子移动到c上\n",
    "    print(a,'-->',c)\n",
    "    # 把n-1个盘子，从b塔，借助于a塔，移动到c塔\n",
    "    hano(n-1,b,a,c)\n",
    "    \n",
    "a = 'A'\n",
    "b = 'B'\n",
    "c = 'C'\n",
    "\n",
    "n = 1\n",
    "hano(n,a,b,c)"
   ]
  },
  {
   "cell_type": "code",
   "execution_count": 5,
   "metadata": {},
   "outputs": [
    {
     "name": "stdout",
     "output_type": "stream",
     "text": [
      "A --> B\n",
      "A --> C\n",
      "B --> C\n"
     ]
    }
   ],
   "source": [
    "n = 2\n",
    "hano(n,a,b,c)"
   ]
  },
  {
   "cell_type": "code",
   "execution_count": 6,
   "metadata": {},
   "outputs": [
    {
     "name": "stdout",
     "output_type": "stream",
     "text": [
      "A --> C\n",
      "A --> B\n",
      "C --> B\n",
      "A --> C\n",
      "B --> A\n",
      "B --> C\n",
      "A --> C\n"
     ]
    }
   ],
   "source": [
    "n = 3\n",
    "hano(n,a,b,c)"
   ]
  },
  {
   "cell_type": "code",
   "execution_count": 7,
   "metadata": {},
   "outputs": [
    {
     "name": "stdout",
     "output_type": "stream",
     "text": [
      "A --> B\n",
      "A --> C\n",
      "B --> C\n",
      "A --> B\n",
      "C --> A\n",
      "C --> B\n",
      "A --> B\n",
      "A --> C\n",
      "B --> C\n",
      "B --> A\n",
      "C --> A\n",
      "B --> C\n",
      "A --> B\n",
      "A --> C\n",
      "B --> C\n"
     ]
    }
   ],
   "source": [
    "n = 4\n",
    "hano(n,a,b,c)"
   ]
  },
  {
   "cell_type": "markdown",
   "metadata": {},
   "source": [
    "# list常用操作\n"
   ]
  },
  {
   "cell_type": "code",
   "execution_count": 8,
   "metadata": {
    "scrolled": true
   },
   "outputs": [
    {
     "name": "stdout",
     "output_type": "stream",
     "text": [
      "[1, 2, 4, 5, 6, 7]\n"
     ]
    }
   ],
   "source": [
    "# del 删除命令\n",
    "# del删除举例\n",
    "a = [1,2,3,4,5,6,7]\n",
    "del a[2]\n",
    "print(a)"
   ]
  },
  {
   "cell_type": "code",
   "execution_count": 10,
   "metadata": {
    "scrolled": true
   },
   "outputs": [
    {
     "name": "stdout",
     "output_type": "stream",
     "text": [
      "92600968\n",
      "[1, 2, 4, 5, 6, 7]\n",
      "92600968\n"
     ]
    }
   ],
   "source": [
    "# del删除举例\n",
    "# 使用del删除列表元素后，id值和删除之前的是一样的，说明没有生成一个新的list，只是在原list基础上操作\n",
    "a = [1,2,3,4,5,6,7]\n",
    "print(id(a))\n",
    "del a[2]\n",
    "print(a)\n",
    "print(id(a))"
   ]
  },
  {
   "cell_type": "code",
   "execution_count": 11,
   "metadata": {},
   "outputs": [
    {
     "ename": "NameError",
     "evalue": "name 'a' is not defined",
     "output_type": "error",
     "traceback": [
      "\u001b[1;31m---------------------------------------------------------------------------\u001b[0m",
      "\u001b[1;31mNameError\u001b[0m                                 Traceback (most recent call last)",
      "\u001b[1;32m<ipython-input-11-c342333e421e>\u001b[0m in \u001b[0;36m<module>\u001b[1;34m()\u001b[0m\n\u001b[0;32m      1\u001b[0m \u001b[1;32mdel\u001b[0m \u001b[0ma\u001b[0m\u001b[1;33m\u001b[0m\u001b[0m\n\u001b[1;32m----> 2\u001b[1;33m \u001b[0mprint\u001b[0m\u001b[1;33m(\u001b[0m\u001b[0ma\u001b[0m\u001b[1;33m)\u001b[0m\u001b[1;33m\u001b[0m\u001b[0m\n\u001b[0m",
      "\u001b[1;31mNameError\u001b[0m: name 'a' is not defined"
     ]
    }
   ],
   "source": [
    "# 使用del删除一个变量后就不能再继续使用该变量了\n",
    "del a\n",
    "print(a)"
   ]
  },
  {
   "cell_type": "code",
   "execution_count": 14,
   "metadata": {},
   "outputs": [
    {
     "name": "stdout",
     "output_type": "stream",
     "text": [
      "[1, 2, 3, 4, 4, 5, 6, 7, 'a', 'b', 'c']\n"
     ]
    }
   ],
   "source": [
    "# 使用加号连接2个列表\n",
    "a = [1,2,3,4]\n",
    "b = [4,5,6,7]\n",
    "c = ['a','b','c']\n",
    "d = a + b + c\n",
    "print(d)"
   ]
  },
  {
   "cell_type": "code",
   "execution_count": 15,
   "metadata": {},
   "outputs": [
    {
     "name": "stdout",
     "output_type": "stream",
     "text": [
      "[1, 2, 3, 1, 2, 3, 1, 2, 3]\n"
     ]
    }
   ],
   "source": [
    "# 使用乘号操作列表，直接把列表和一个整数想乘，相当于把n个列表连接在一起\n",
    "a = [1,2,3]\n",
    "b = a * 3\n",
    "print(b)"
   ]
  },
  {
   "cell_type": "code",
   "execution_count": 18,
   "metadata": {},
   "outputs": [
    {
     "name": "stdout",
     "output_type": "stream",
     "text": [
      "False\n",
      "False\n"
     ]
    }
   ],
   "source": [
    "# 成员资格运算(in 和 not in)\n",
    "# 就是判断一个元素是否在改list中\n",
    "a = [1,2,3,4,5,6,7]\n",
    "b = 8\n",
    "\n",
    "# c的值肯定是个布尔值\n",
    "c = b in a\n",
    "print(c)\n",
    "\n",
    "b = 4\n",
    "print(b not in a)"
   ]
  },
  {
   "cell_type": "markdown",
   "metadata": {},
   "source": [
    "# list的遍历\n",
    "- for\n",
    "- while"
   ]
  },
  {
   "cell_type": "code",
   "execution_count": 19,
   "metadata": {},
   "outputs": [
    {
     "name": "stdout",
     "output_type": "stream",
     "text": [
      "1\n",
      "2\n",
      "3\n",
      "4\n",
      "5\n"
     ]
    }
   ],
   "source": [
    "# for in list\n",
    "a = [1,2,3,4,5]\n",
    "\n",
    "for i in a:\n",
    "    print(i)"
   ]
  },
  {
   "cell_type": "code",
   "execution_count": 21,
   "metadata": {},
   "outputs": [
    {
     "name": "stdout",
     "output_type": "stream",
     "text": [
      "1\n",
      "2\n",
      "3\n",
      "4\n",
      "5\n",
      "6\n",
      "7\n",
      "8\n",
      "9\n",
      "<class 'range'>\n"
     ]
    }
   ],
   "source": [
    "# range\n",
    "# in 后面的变量要求是可迭代的内容\n",
    "for i in range(1,10):\n",
    "    print(i)\n",
    "print(type(range(1,10)))"
   ]
  },
  {
   "cell_type": "code",
   "execution_count": 23,
   "metadata": {},
   "outputs": [
    {
     "name": "stdout",
     "output_type": "stream",
     "text": [
      "1\n",
      "2\n",
      "3\n",
      "4\n",
      "5\n",
      "6\n"
     ]
    }
   ],
   "source": [
    "# while 循环遍历list（非常不推荐）\n",
    "# 但是一般不推荐while遍历list\n",
    "a = [1,2,3,4,5,6]\n",
    "length = len(a)\n",
    "#indx表示的是list的下标\n",
    "indx = 0\n",
    "while indx < length:\n",
    "    print(a[indx])\n",
    "    indx += 1"
   ]
  },
  {
   "cell_type": "code",
   "execution_count": 24,
   "metadata": {},
   "outputs": [
    {
     "name": "stdout",
     "output_type": "stream",
     "text": [
      "one -- 1\n",
      "two -- 2\n",
      "three -- 3\n"
     ]
    }
   ],
   "source": [
    "# 双层列表循环（嵌套列表）,只有下面这种特例才能使用k,v模式的遍历\n",
    "# k,v模式的遍历在dict中使用较多\n",
    "a = [['one',1],['two',2],['three',3]]\n",
    "for k,v in a:\n",
    "    print(k,'--',v)"
   ]
  },
  {
   "cell_type": "code",
   "execution_count": 25,
   "metadata": {},
   "outputs": [
    {
     "name": "stdout",
     "output_type": "stream",
     "text": [
      "one -- 1 -- 一\n",
      "two -- 2 -- 二\n",
      "three -- 3 -- 三\n"
     ]
    }
   ],
   "source": [
    "a = [['one',1,'一'],['two',2,'二'],['three',3,'三']]\n",
    "for k,v,w in a:\n",
    "    print(k,'--',v,'--',w)"
   ]
  },
  {
   "cell_type": "markdown",
   "metadata": {},
   "source": [
    "# 列表内涵（list content）\n",
    "- 通过简单的方法创建列表"
   ]
  },
  {
   "cell_type": "code",
   "execution_count": 26,
   "metadata": {},
   "outputs": [
    {
     "name": "stdout",
     "output_type": "stream",
     "text": [
      "['a', 'b', 'c']\n"
     ]
    }
   ],
   "source": [
    "# 使用for创建\n",
    "a = ['a','b','c']\n",
    "\n",
    "# 使用list a 创建一个list b\n",
    "# 对于a中的所有元素，逐个放入list b中\n",
    "b = [i for i in a]\n",
    "print(b)"
   ]
  },
  {
   "cell_type": "code",
   "execution_count": 29,
   "metadata": {},
   "outputs": [
    {
     "name": "stdout",
     "output_type": "stream",
     "text": [
      "[10, 20, 30, 50]\n"
     ]
    }
   ],
   "source": [
    "# 将a中的所有元素乘以10，生成一个新的list\n",
    "a = [1,2,3,5]\n",
    "b = [10*i for i in a]\n",
    "print(b)"
   ]
  },
  {
   "cell_type": "code",
   "execution_count": 39,
   "metadata": {},
   "outputs": [
    {
     "name": "stdout",
     "output_type": "stream",
     "text": [
      "[2, 4, 6, 8, 10, 100]\n"
     ]
    }
   ],
   "source": [
    "# 还可以过滤原来的list，生成新的list\n",
    "# 原有list为a，将a中的所有偶数生成新的list b\n",
    "a = [1,2,3,4,5,6,7,8,9,10,100]\n",
    "b = [i for i in a if i%2 == 0]\n",
    "print(b)  "
   ]
  },
  {
   "cell_type": "code",
   "execution_count": 52,
   "metadata": {},
   "outputs": [
    {
     "name": "stdout",
     "output_type": "stream",
     "text": [
      "[1, 2, 3]\n",
      "[100, 200, 300]\n",
      "[101, 201, 301, 102, 202, 302, 103, 203, 303]\n",
      "101, 201, 301, 102, 202, 302, 103, 203, 303, \n",
      "[101, 102, 103]\n"
     ]
    }
   ],
   "source": [
    "# 列表生成式可以嵌套\n",
    "# 先生成2个list a 和 b\n",
    "a = [i for i in range(1,4)]\n",
    "print(a)\n",
    "b = [i for i in range(100,400) if i % 100 == 0]\n",
    "print(b)\n",
    "\n",
    "# 再把a和b嵌套在一起\n",
    "c = [m+n for m in a for n in b]\n",
    "print(c)\n",
    "\n",
    "# 下面的嵌套for循环和上面的效果相同\n",
    "for m in a:\n",
    "    for n in b:\n",
    "        print(m+n, end = ', ')\n",
    "print()\n",
    "\n",
    "# 嵌套的表达式也可以和条件表达式混合使用,过滤和小于200的\n",
    "c = [m+n for m in a for n in b if m+n < 200]\n",
    "print(c)\n"
   ]
  },
  {
   "cell_type": "markdown",
   "metadata": {},
   "source": [
    "# 关于列表的常见函数"
   ]
  },
  {
   "cell_type": "code",
   "execution_count": 73,
   "metadata": {},
   "outputs": [
    {
     "name": "stdout",
     "output_type": "stream",
     "text": [
      "99\n",
      "99\n",
      "1\n",
      "zc\n",
      "abc123\n"
     ]
    }
   ],
   "source": [
    "# len:求list的长度\n",
    "a = [i for i in range(1,100)]\n",
    "print(len(a))\n",
    "\n",
    "# max:求list中的最大值\n",
    "# min：求list中的最小值\n",
    "print(max(a))\n",
    "print(min(a))\n",
    "\n",
    "# 还可以对字符串比较，比较的是字母的先后顺序，z最大，a最小\n",
    "b = ['abc123','aef123','za','zc','python']\n",
    "print(max(b))\n",
    "print(min(b))"
   ]
  },
  {
   "cell_type": "code",
   "execution_count": 74,
   "metadata": {},
   "outputs": [
    {
     "name": "stdout",
     "output_type": "stream",
     "text": [
      "[1, 2, 3]\n"
     ]
    }
   ],
   "source": [
    "# list(): 将其他格式的数据转换成list\n",
    "a = [1,2,3]\n",
    "print(list(a))"
   ]
  },
  {
   "cell_type": "code",
   "execution_count": 75,
   "metadata": {},
   "outputs": [
    {
     "name": "stdout",
     "output_type": "stream",
     "text": [
      "['i', ' ', 'l', 'o', 'v', 'e', ' ', 'w', 'a', 'n', 'g', 'x', 'i', 'a', 'o', 'l', 'i']\n"
     ]
    }
   ],
   "source": [
    "# 空格也是字符\n",
    "s = 'i love wangxiaoli'\n",
    "print(list(s))"
   ]
  },
  {
   "cell_type": "code",
   "execution_count": 76,
   "metadata": {},
   "outputs": [
    {
     "name": "stdout",
     "output_type": "stream",
     "text": [
      "[1, 2, 3, 4, 5, 6, 7, 8, 9]\n"
     ]
    }
   ],
   "source": [
    "# 把range函数产生的内容转换成list\n",
    "print(list(range(1,10)))"
   ]
  }
 ],
 "metadata": {
  "kernelspec": {
   "display_name": "Python 3",
   "language": "python",
   "name": "python3"
  },
  "language_info": {
   "codemirror_mode": {
    "name": "ipython",
    "version": 3
   },
   "file_extension": ".py",
   "mimetype": "text/x-python",
   "name": "python",
   "nbconvert_exporter": "python",
   "pygments_lexer": "ipython3",
   "version": "3.6.5"
  }
 },
 "nbformat": 4,
 "nbformat_minor": 2
}
