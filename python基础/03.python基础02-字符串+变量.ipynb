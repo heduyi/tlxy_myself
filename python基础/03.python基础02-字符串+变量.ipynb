{
 "cells": [
  {
   "cell_type": "markdown",
   "metadata": {},
   "source": [
    "# 字符串\n",
    "- 转义字符\n",
    "- 格式化\n",
    "- 内建函数\n",
    "\n",
    "## 转义字符\n",
    "- 用一个特殊的方法表示出一系列无法表示出的内容，例如表示出回车键、换行键、退格键等\n",
    "- 借助反斜杠（\\）字符，一旦字符串中出现了反斜杠，则反斜杠后的一个或几个字符表示的不是之前的意思了，进行了转义\n",
    "- 不同操作系统对换行操作有不同的表示\n",
    "    - Windows：\\n\n",
    "    - linux: \\r\\n"
   ]
  },
  {
   "cell_type": "code",
   "execution_count": 1,
   "metadata": {},
   "outputs": [
    {
     "name": "stdout",
     "output_type": "stream",
     "text": [
      "i love wangxiaoli\n"
     ]
    }
   ],
   "source": [
    "s = 'i love wangxiaoli'\n",
    "print(s)"
   ]
  },
  {
   "cell_type": "code",
   "execution_count": 5,
   "metadata": {},
   "outputs": [
    {
     "name": "stdout",
     "output_type": "stream",
     "text": [
      "let's go\n",
      "let's go\n",
      "c:\\user\n",
      "I love \r\n",
      " wangxiaoli\n"
     ]
    }
   ],
   "source": [
    "# 如果想表示出let's go,可以使用2种方法\n",
    "#1.可以使用嵌套引号\n",
    "#2.可以使用转义字符\n",
    "s = \"let's go\"\n",
    "print(s)\n",
    "\n",
    "# \\' == '\n",
    "ss = 'let\\'s go'\n",
    "print(ss)\n",
    "\n",
    "# \\\\ == \\\n",
    "sss = \"c:\\\\user\"\n",
    "print(sss)\n",
    "\n",
    "#回车换行符\n",
    "s1 = 'I love \\r\\n wangxiaoli'\n",
    "print(s1)"
   ]
  },
  {
   "cell_type": "markdown",
   "metadata": {},
   "source": [
    "## 字符串的格式化\n",
    "- 把字符串按照一定格式打印或者填充\n",
    "- 格式化有2种方法\n",
    "    - 利用百分号(%)\n",
    "    - 利用format函数"
   ]
  },
  {
   "cell_type": "markdown",
   "metadata": {},
   "source": [
    "### 利用百分号格式化\n",
    "- 在字符串中，利用%表示一个特殊的含义，表示对字符进行格式化\n",
    "- %d表示此处应该放入一个整数，%s表示此处应该放入一个字符串"
   ]
  },
  {
   "cell_type": "code",
   "execution_count": 6,
   "metadata": {},
   "outputs": [
    {
     "name": "stdout",
     "output_type": "stream",
     "text": [
      "I love %s\n",
      "I love wangxiaojing\n"
     ]
    }
   ],
   "source": [
    "s = 'I love %s'\n",
    "# 下面的打印直接把%s作为字符串的一个内容打印出来\n",
    "print(s)\n",
    "print(s%'wangxiaojing')"
   ]
  },
  {
   "cell_type": "code",
   "execution_count": 2,
   "metadata": {},
   "outputs": [
    {
     "name": "stdout",
     "output_type": "stream",
     "text": [
      "I love wangxiaojing\n"
     ]
    }
   ],
   "source": [
    "print('I love %s'%'wangxiaojing')"
   ]
  },
  {
   "cell_type": "code",
   "execution_count": 5,
   "metadata": {},
   "outputs": [
    {
     "name": "stdout",
     "output_type": "stream",
     "text": [
      "I am %d years old\n",
      "I am 18 years old\n"
     ]
    }
   ],
   "source": [
    "s = 'I am %d years old'\n",
    "print(s)\n",
    "print(s%18)"
   ]
  },
  {
   "cell_type": "code",
   "execution_count": 9,
   "metadata": {},
   "outputs": [
    {
     "name": "stdout",
     "output_type": "stream",
     "text": [
      "I am %s, I am %d years old\n",
      "I am tulingxueyuan, I am 18 years old\n"
     ]
    }
   ],
   "source": [
    "s = 'I am %s, I am %d years old'\n",
    "print(s)\n",
    "# 如果字符串中有多个占位符，则有几个占位符就需要有几个实际的内容进行替代，或者一个也不要\n",
    "# 如果出现多个占位符，则相应的内容需要用括号括起来\n",
    "print(s%('tulingxueyuan',18))"
   ]
  },
  {
   "cell_type": "markdown",
   "metadata": {},
   "source": [
    "### 使用format函数格式化（推荐）\n",
    "- 在使用中，以{}和：替代%，后面用format带参数完成\n",
    "- 可以对相应的占位符进行编号，format后的实际内容从0开始依次占位"
   ]
  },
  {
   "cell_type": "code",
   "execution_count": 12,
   "metadata": {},
   "outputs": [
    {
     "name": "stdout",
     "output_type": "stream",
     "text": [
      "I love wangxiaojing\n",
      "Yes, i am 18 years old, i love wangxiaojing and i am 18 years old\n"
     ]
    }
   ],
   "source": [
    "s = 'I love {}'.format('wangxiaojing')\n",
    "print(s)\n",
    "ss = 'Yes, i am {1} years old, i love {0} and i am {1} years old'.format('wangxiaojing',18)\n",
    "print(ss)"
   ]
  },
  {
   "cell_type": "markdown",
   "metadata": {},
   "source": [
    "## None\n",
    "- 表示什么都没有\n",
    "- 如果函数没有返回值，可以返回None\n",
    "- 可以用来占位置\n",
    "- 可以用来解除变量绑定"
   ]
  },
  {
   "cell_type": "markdown",
   "metadata": {},
   "source": [
    "# 表达式\n",
    "- 由一个或几个数字或者变量和运算符组合成的一行代码\n",
    "- 通常会返回一个结果\n",
    "## 运算符\n",
    "- 由一个以上的值经过变化得到新值的过程叫运算\n",
    "- 用于运算的符号叫运算符\n",
    "- 运算符的分类（7种）\n",
    "    - 算数运算符\n",
    "    - 比较或关系运算符\n",
    "    - 赋值运算符\n",
    "    - 逻辑运算符\n",
    "    - 位运算\n",
    "    - 成员运算\n",
    "    - 身份运算"
   ]
  },
  {
   "cell_type": "markdown",
   "metadata": {},
   "source": [
    "### 算数运算符\n",
    "- 进行算数运算的符号\n",
    "- python中没有自增自减运算符\n",
    "- (加 减 乘 除 取余 地板除/整除 幂运算)"
   ]
  },
  {
   "cell_type": "code",
   "execution_count": 7,
   "metadata": {},
   "outputs": [
    {
     "name": "stdout",
     "output_type": "stream",
     "text": [
      "11\n",
      "36\n",
      "2.25\n",
      "1\n",
      "2\n",
      "27\n"
     ]
    }
   ],
   "source": [
    "# 加减和算数完全一样，*表示乘，/ 表示除\n",
    "# 在python2.x和python3.x中，除号(/)结果可能不一致，python3.x表示真实除法，python2.x表示整除\n",
    "a = 9 + 3 -1\n",
    "print(a)\n",
    "\n",
    "aa = 9*4\n",
    "print(aa)\n",
    "\n",
    "aaa = 9/4\n",
    "print(aaa)\n",
    "\n",
    "# %表示取余\n",
    "c = 9 % 4\n",
    "print(c)\n",
    "\n",
    "# //表示整除\n",
    "b = 9//4\n",
    "print(b)\n",
    "\n",
    "# **表示幂运算\n",
    "bb = 3 ** 3\n",
    "print(bb)"
   ]
  },
  {
   "cell_type": "markdown",
   "metadata": {},
   "source": [
    "### 比较运算符\n",
    "- 对2个变量或值进行比较的运算符\n",
    "- 比较运算符比较的结果是布尔值，即True/False"
   ]
  },
  {
   "cell_type": "code",
   "execution_count": 9,
   "metadata": {},
   "outputs": [
    {
     "name": "stdout",
     "output_type": "stream",
     "text": [
      "False\n"
     ]
    }
   ],
   "source": [
    "# == 等于号\n",
    "# != 不等于\n",
    "# > 大于\n",
    "# < 小于\n",
    "# >= 大于等于\n",
    "# <= 小于等于\n",
    "# 下面的计算步骤为1.计算a == 81 2.把1中的计算结果放入b中\n",
    "a = 3 ** 4\n",
    "b = a == 80\n",
    "print(b)"
   ]
  },
  {
   "cell_type": "markdown",
   "metadata": {},
   "source": [
    "### 赋值运算符"
   ]
  },
  {
   "cell_type": "code",
   "execution_count": 21,
   "metadata": {},
   "outputs": [
    {
     "name": "stdout",
     "output_type": "stream",
     "text": [
      "7\n"
     ]
    }
   ],
   "source": [
    "# = 表示赋值\n",
    "a = 0\n",
    "b = a = 3\n",
    "\n",
    "# += 为一个缩写形式\n",
    "a = 0\n",
    "a += 7 #  a = a + 7 的缩写\n",
    "print(a)\n",
    "\n",
    "# 所有的数学运算符都有缩写的形式\n",
    "# +=,-=, *=, /=, %=,**= 都是缩写形式"
   ]
  },
  {
   "cell_type": "markdown",
   "metadata": {},
   "source": [
    "### 逻辑运算符\n",
    "- 对布尔值进行计算的符号\n",
    "- and 逻辑与，两边都为真时才为真，其余均为假；\n",
    "- or 逻辑或，只要有一个为真即为真， \n",
    "- not逻辑非\n",
    "- Python中没有异或运算"
   ]
  },
  {
   "cell_type": "code",
   "execution_count": 1,
   "metadata": {},
   "outputs": [
    {
     "name": "stdout",
     "output_type": "stream",
     "text": [
      "True\n",
      "True\n"
     ]
    }
   ],
   "source": [
    "a = True\n",
    "b = False\n",
    "c = True\n",
    "\n",
    "d = a and b or c\n",
    "print(d)\n",
    "\n",
    "e = a or b and a\n",
    "print(e)"
   ]
  },
  {
   "cell_type": "markdown",
   "metadata": {},
   "source": [
    "### 成员运算符号\n",
    "- 用来检测某一个变量是否是另一个变量的成员\n",
    "- in\n",
    "- not in"
   ]
  },
  {
   "cell_type": "code",
   "execution_count": 2,
   "metadata": {},
   "outputs": [
    {
     "name": "stdout",
     "output_type": "stream",
     "text": [
      "False\n",
      "True\n"
     ]
    }
   ],
   "source": [
    "l = [1,2,3,4,5]\n",
    "a = 7\n",
    "\n",
    "b = a in l\n",
    "print(b)\n",
    "\n",
    "c = a not in l\n",
    "print(c)"
   ]
  },
  {
   "cell_type": "markdown",
   "metadata": {},
   "source": [
    "### 身份运算符\n",
    "- is:用来检测两个变量是否是一个变量\n",
    "    - 语法结构是 var1 is var2\n",
    "- is not:两个变量不是同一个变量"
   ]
  },
  {
   "cell_type": "code",
   "execution_count": 4,
   "metadata": {},
   "outputs": [
    {
     "name": "stdout",
     "output_type": "stream",
     "text": [
      "True\n",
      "False\n"
     ]
    }
   ],
   "source": [
    "a = 9\n",
    "b = 9\n",
    "print(a is b)\n",
    "\n",
    "c = 'I love wangxiaojing'\n",
    "d = 'I love wangxiaojing'\n",
    "print(c is d)"
   ]
  },
  {
   "cell_type": "markdown",
   "metadata": {},
   "source": [
    "## 运算符优先级的问题\n",
    "- 括号具有最高优先级（如果不清楚运算符优先级推荐使用括号把最好优先级的括起来）"
   ]
  },
  {
   "cell_type": "markdown",
   "metadata": {},
   "source": [
    "# 程序结构\n",
    "- 顺序\n",
    "- 分支\n",
    "- 循环"
   ]
  }
 ],
 "metadata": {
  "kernelspec": {
   "display_name": "Python 3",
   "language": "python",
   "name": "python3"
  },
  "language_info": {
   "codemirror_mode": {
    "name": "ipython",
    "version": 3
   },
   "file_extension": ".py",
   "mimetype": "text/x-python",
   "name": "python",
   "nbconvert_exporter": "python",
   "pygments_lexer": "ipython3",
   "version": "3.6.3"
  }
 },
 "nbformat": 4,
 "nbformat_minor": 2
}
