{
 "cells": [
  {
   "cell_type": "markdown",
   "metadata": {
    "collapsed": true
   },
   "source": [
    "# Python基础\n",
    "## Python概述\n",
    "- 计算机语言概述\n",
    "    - 语言：交流的工具，沟通媒介\n",
    "    - 计算机语言：人跟计算机交流的工具，翻译官\n",
    "    - python是计算机语言的一种\n",
    "    - python编程语言\n",
    "        - 代码：人类语言，通过代码命令机器，和机器交流\n",
    "        - PYthon解释器：担任翻译工作\n",
    "        - 流程：\n",
    "            - 写代码\n",
    "            - 执行：由python解释器把命令（code）翻译给机器，同时把机器结果翻译给我们\n",
    "    - python简史\n",
    "        - 1989年，Guido van Rossum由C语言创造\n",
    "        - 2008年，python3.0诞生，和低版本的Python2.0不兼容\n",
    "        - 2014年，python2.7在2020年后不再技术支持\n",
    "        - python设计哲学：平衡发展、样样通、简洁明了\n",
    "    - python环境问题\n",
    "        - anaconda+pycharm（使用anaconda代替python解释器，pycharm为编辑环境）\n",
    "        - python3.6\n",
    "        - 讲义+代码：github\n",
    "        - 教科书：gitbook\n",
    "    - python的执行方式\n",
    "        - 本质上是一堆命令的集合\n",
    "        - 从上往下逐行执行，遇到问题即终止\n",
    "        - 使用左边ctrl+enter来执行code（不会再新建一行）\n",
    "        - 使用左边alt+enter来执行code（会新建一行）"
   ]
  },
  {
   "cell_type": "code",
   "execution_count": 7,
   "metadata": {},
   "outputs": [
    {
     "name": "stdout",
     "output_type": "stream",
     "text": [
      "hello, world\n"
     ]
    }
   ],
   "source": [
    "print('hello, world')"
   ]
  },
  {
   "cell_type": "code",
   "execution_count": 21,
   "metadata": {},
   "outputs": [
    {
     "name": "stdout",
     "output_type": "stream",
     "text": [
      "hello,world\n",
      "图灵学院\n",
      "I love wangmeili\n"
     ]
    }
   ],
   "source": [
    "print('hello,world')\n",
    "print('图灵学院')\n",
    "print('I love wangmeili')"
   ]
  }
 ],
 "metadata": {
  "kernelspec": {
   "display_name": "Python 3",
   "language": "python",
   "name": "python3"
  },
  "language_info": {
   "codemirror_mode": {
    "name": "ipython",
    "version": 3
   },
   "file_extension": ".py",
   "mimetype": "text/x-python",
   "name": "python",
   "nbconvert_exporter": "python",
   "pygments_lexer": "ipython3",
   "version": "3.6.3"
  }
 },
 "nbformat": 4,
 "nbformat_minor": 2
}
