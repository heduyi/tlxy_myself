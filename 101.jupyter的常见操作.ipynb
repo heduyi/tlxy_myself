{
 "cells": [
  {
   "cell_type": "markdown",
   "metadata": {},
   "source": [
    "# jupyter的常见操作\n",
    "- 用ESC退出编辑模式后，使用M键切换到markdown模式，使用Y键切换到code模式\n",
    "- 用ctrl + enter，执行代码；用alt+enter，执行代码，并在改cell下插入一行cell"
   ]
  }
 ],
 "metadata": {
  "kernelspec": {
   "display_name": "Python 3",
   "language": "python",
   "name": "python3"
  },
  "language_info": {
   "codemirror_mode": {
    "name": "ipython",
    "version": 3
   },
   "file_extension": ".py",
   "mimetype": "text/x-python",
   "name": "python",
   "nbconvert_exporter": "python",
   "pygments_lexer": "ipython3",
   "version": "3.6.5"
  }
 },
 "nbformat": 4,
 "nbformat_minor": 2
}
