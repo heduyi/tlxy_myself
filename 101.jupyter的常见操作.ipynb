{
 "cells": [
  {
   "cell_type": "markdown",
   "metadata": {},
   "source": [
    "# jupyter的常见操作\n",
    "- 用ESC退出编辑模式后，使用M键切换到markdown模式，使用Y键切换到code模式\n",
    "- 用ctrl + enter，执行代码；用alt+enter，执行代码，并在改cell下插入一行cell"
   ]
  },
  {
   "cell_type": "markdown",
   "metadata": {},
   "source": [
    "# 将jupyter的内容上传到github\n",
    "- 将jupyter notebook的内容通过file-download下载保存到本地的.ipynb文件\n",
    "- 在git中mkdir新建一个工作区域 mkdir python_tlxy_my\n",
    "- 将保存到本地的.ipynb文件拷贝到上面的目录中\n",
    "- cd python_tlxy_my\n",
    "- git init #初始化本地仓库\n",
    "- git add 0* #将以0开头的文件保存到暂存区\n",
    "- git add 1*\n",
    "- git commit -m ‘remark’ #将code从暂存区保存到本地仓库，使用git log可以查看commit的log记录\n",
    "- git remote add origin https://github.com/heduyi/tlxy_myself.git add到remote的github上\n",
    "- git push -u origin master 从远程的暂存区保存到远程仓库\n",
    "\n",
    "参考：https://blog.csdn.net/zhangjianjaEE/article/details/77931579\n",
    "\n"
   ]
  }
 ],
 "metadata": {
  "kernelspec": {
   "display_name": "Python 3",
   "language": "python",
   "name": "python3"
  },
  "language_info": {
   "codemirror_mode": {
    "name": "ipython",
    "version": 3
   },
   "file_extension": ".py",
   "mimetype": "text/x-python",
   "name": "python",
   "nbconvert_exporter": "python",
   "pygments_lexer": "ipython3",
   "version": "3.6.5"
  }
 },
 "nbformat": 4,
 "nbformat_minor": 2
}
