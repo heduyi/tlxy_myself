{
 "cells": [
  {
   "cell_type": "markdown",
   "metadata": {},
   "source": [
    "# 三大结构\n",
    "- 顺序\n",
    "- 分支\n",
    "- 循环"
   ]
  },
  {
   "cell_type": "markdown",
   "metadata": {},
   "source": [
    "## 分支\n",
    "- 分支的基本语法\n",
    "    if 条件表达式：\n",
    "        语句1\n",
    "        语句2\n",
    "        语句3\n",
    "        .....\n",
    "- 条件表达式就是计算结果必须为布尔值的表达式\n",
    "- 注意表达式后面的冒号\n",
    "- if后面出现的语句，如果属于if语句块，则必须同一个缩进等级\n",
    "- 条件表达式为True则执行if后面缩进的语句"
   ]
  },
  {
   "cell_type": "code",
   "execution_count": 2,
   "metadata": {},
   "outputs": [
    {
     "name": "stdout",
     "output_type": "stream",
     "text": [
      "you\n",
      "are\n",
      "a child\n"
     ]
    }
   ],
   "source": [
    "# 如果if条件表达式为True则执行缩进的语句\n",
    "age = 17\n",
    "if age < 18:\n",
    "    print('you')\n",
    "    print('are')\n",
    "    print('a child')"
   ]
  },
  {
   "cell_type": "code",
   "execution_count": 6,
   "metadata": {},
   "outputs": [
    {
     "name": "stdout",
     "output_type": "stream",
     "text": [
      "you are a man\n"
     ]
    }
   ],
   "source": [
    "# 如果if条件表达式为False则与if平级的下一个语句\n",
    "age = 20\n",
    "if age < 18:\n",
    "    print('you')\n",
    "    print('are')\n",
    "    print('a child')\n",
    "print('you are a man')"
   ]
  },
  {
   "cell_type": "markdown",
   "metadata": {},
   "source": [
    "### 双向分支\n",
    "- if...else...语句\n",
    "        if 条件表达式：\n",
    "            语句1\n",
    "            语句2\n",
    "            ....\n",
    "        else：\n",
    "            语句3\n",
    "            语句4\n",
    "            ....\n",
    "- 双向分支有2个分支，当程序执行到if..else...语句的时候，一定会执行if或else中的一个，也仅会执行一个\n",
    "- 缩进问题，if和else是一个层级，其余的是一个层级"
   ]
  },
  {
   "cell_type": "code",
   "execution_count": 12,
   "metadata": {},
   "outputs": [
    {
     "name": "stdout",
     "output_type": "stream",
     "text": [
      "请输入性别：woman\n",
      "你输入的性别是：woman\n",
      "吃个糖\n",
      "特殊照顾\n",
      "开始上课\n"
     ]
    }
   ],
   "source": [
    "# input的作用\n",
    "# 1.在屏幕上输出括号内的字符串\n",
    "# 2.接受用户输入的内容并返回到程序\n",
    "# 3.input返回的内容一定是字符串类型\n",
    "# 4.一个语句块内保持缩进一样就可以了，如例子中，if的语句块和else的语句块缩进不一致，也不会有什么影响。但是建议一个TAB，保持缩进一致\n",
    "gender = input('请输入性别：')\n",
    "print('你输入的性别是：{0}'.format(gender))\n",
    "\n",
    "if gender =='man':\n",
    "    print('开始敲代码')\n",
    "else:\n",
    "        print('吃个糖')\n",
    "        print('特殊照顾')\n",
    "print('开始上课')"
   ]
  },
  {
   "cell_type": "code",
   "execution_count": 17,
   "metadata": {},
   "outputs": [
    {
     "name": "stdout",
     "output_type": "stream",
     "text": [
      "请输入学生的成绩：2\n",
      "回家叫家长！\n"
     ]
    }
   ],
   "source": [
    "# 判断学生的考试成绩，分为5个档次\n",
    "# score用于存放学生的成绩\n",
    "# 注意input的返回值类型\n",
    "score = input('请输入学生的成绩：')\n",
    "# 需要把str转成int\n",
    "score = int(score)\n",
    "\n",
    "if score >= 90:\n",
    "    print('A')\n",
    "if score >= 80 and score < 90:\n",
    "    print('B')\n",
    "if score >= 70 and score < 80:\n",
    "    print('C')\n",
    "if score >= 60 and score < 70:\n",
    "    print('D')\n",
    "if score < 60:\n",
    "    print('回家叫家长！')\n"
   ]
  },
  {
   "cell_type": "markdown",
   "metadata": {},
   "source": [
    "### 多路分支\n",
    "- 很多个分支的情况\n",
    "        \n",
    "        if 条件表达式：\n",
    "            语句1\n",
    "            ....\n",
    "        elif 条件表达式：\n",
    "            语句2\n",
    "            ...\n",
    "        ....\n",
    "        else:\n",
    "            语句N\n",
    "            ...\n",
    "- elif可以有很多个\n",
    "- else可以没有\n",
    "- 在执行过程中只有有一个条件表达式被执行\n",
    "       "
   ]
  },
  {
   "cell_type": "code",
   "execution_count": 5,
   "metadata": {},
   "outputs": [
    {
     "name": "stdout",
     "output_type": "stream",
     "text": [
      "请输入学生的成绩：60\n",
      "D\n"
     ]
    }
   ],
   "source": [
    "# 判断学生的考试成绩，分为5个档次\n",
    "# score用于存放学生的成绩\n",
    "# 注意input的返回值类型\n",
    "score = input('请输入学生的成绩：')\n",
    "# 需要把str转成int\n",
    "score = int(score)\n",
    "\n",
    "if score >= 90:\n",
    "    print('A')\n",
    "elif score >= 80:\n",
    "    print('B')\n",
    "elif score >= 70:\n",
    "    print('C')\n",
    "elif score >= 60:\n",
    "    print('D')\n",
    "else:\n",
    "    print('回家叫家长！')"
   ]
  },
  {
   "cell_type": "markdown",
   "metadata": {},
   "source": [
    "### if语句其他：\n",
    "- if语句可以嵌套使用，但是不推荐\n",
    "- python里没有switch-case语句"
   ]
  },
  {
   "cell_type": "markdown",
   "metadata": {},
   "source": [
    "## 循环语句\n",
    "- 重复执行某些固定动作或处理基本的固定的事物\n",
    "- 分类\n",
    "    - for循环\n",
    "    - while循环\n",
    "\n",
    "### for循环\n",
    "- for循环格式\n",
    "        for 变量 in 序列:\n",
    "            语句1\n",
    "            语句2\n",
    "            ..."
   ]
  },
  {
   "cell_type": "code",
   "execution_count": 6,
   "metadata": {},
   "outputs": [
    {
     "name": "stdout",
     "output_type": "stream",
     "text": [
      "zhangsan\n",
      "lisi\n",
      "wangwu\n",
      "jingjing\n"
     ]
    }
   ],
   "source": [
    "# 列表就是一系列数字或者其他的值，一般用中括号表示\n",
    "# eg：['zhangsan','lisi','wangwu','jingjing']\n",
    "\n",
    "#打印学生列表的姓名\n",
    "for name in ['zhangsan','lisi','wangwu','jingjing']:\n",
    "    print(name)"
   ]
  },
  {
   "cell_type": "code",
   "execution_count": 8,
   "metadata": {},
   "outputs": [
    {
     "name": "stdout",
     "output_type": "stream",
     "text": [
      "zhangsan\n",
      "zhangsan同学请自重\n",
      "lisi\n",
      "lisi同学请自重\n",
      "wangwu\n",
      "wangwu同学请自重\n",
      "jingjing\n",
      "我最爱的jingjing出现了！\n"
     ]
    }
   ],
   "source": [
    "# 打印学生列表的姓名\n",
    "# 如果name为jingjing，则大声说出爱；如果是别的学生，则拒绝\n",
    "for name in ['zhangsan','lisi','wangwu','jingjing']:\n",
    "    print(name)\n",
    "    if name == 'jingjing':\n",
    "        print('我最爱的{0}出现了！'.format(name))\n",
    "    else:\n",
    "        print('{}同学请自重'.format(name))"
   ]
  },
  {
   "cell_type": "markdown",
   "metadata": {},
   "source": [
    "## range介绍\n",
    "- 可以生成一个数字序列\n",
    "- 具体范围可以设定"
   ]
  },
  {
   "cell_type": "code",
   "execution_count": 11,
   "metadata": {},
   "outputs": [
    {
     "name": "stdout",
     "output_type": "stream",
     "text": [
      "1\n",
      "2\n",
      "3\n",
      "4\n",
      "5\n",
      "6\n",
      "7\n",
      "8\n",
      "9\n",
      "10\n"
     ]
    }
   ],
   "source": [
    "# range练习\n",
    "# 打印出1-10的数字\n",
    "# 在python中，如果由表示数字范围的2个数，一般包含左边数字，不包含右边数字\n",
    "# randint是个特例，左右两边都会包含\n",
    "# range函数在python2和python3中有很大区别，此处介绍python3\n",
    "for i in range(1,11):\n",
    "    print(i)"
   ]
  },
  {
   "cell_type": "markdown",
   "metadata": {},
   "source": [
    "## for-else语句\n",
    "- 当循环语句结束时会执行else语句\n",
    "- else是可选语句"
   ]
  },
  {
   "cell_type": "code",
   "execution_count": 9,
   "metadata": {},
   "outputs": [
    {
     "name": "stdout",
     "output_type": "stream",
     "text": [
      "zhangsan\n",
      "zhangsan同学请自重\n",
      "lisi\n",
      "lisi同学请自重\n",
      "wangwu\n",
      "wangwu同学请自重\n",
      "jingjing\n",
      "我最爱的jingjing出现了！\n",
      "别的都不是我的学生，结束了\n"
     ]
    }
   ],
   "source": [
    "# 打印列表中的同学姓名\n",
    "# 如果没有在列表中或者列表结束了，需要打印提示语句表示列表结束了\n",
    "\n",
    "# 打印学生列表的姓名\n",
    "# 如果name为jingjing，则大声说出爱；如果是别的学生，则拒绝\n",
    "for name in ['zhangsan','lisi','wangwu','jingjing']:\n",
    "    print(name)\n",
    "    if name == 'jingjing':\n",
    "        print('我最爱的{0}出现了！'.format(name))\n",
    "    else:\n",
    "        print('{}同学请自重'.format(name))\n",
    "else:\n",
    "    print('别的都不是我的学生，结束了')"
   ]
  },
  {
   "cell_type": "markdown",
   "metadata": {},
   "source": [
    "## for循环之break，continue，pass\n",
    "- break:无条件结束整个循环，简称循环猝死\n",
    "- continue:无条件结束本次循环，重新进入下一次循环\n",
    "- pass：表示略过，占位"
   ]
  },
  {
   "cell_type": "code",
   "execution_count": 15,
   "metadata": {},
   "outputs": [
    {
     "name": "stdout",
     "output_type": "stream",
     "text": [
      "I love wangxiaoli\n",
      "I love wangxiaoli\n",
      "I love wangxiaoli\n",
      "I love wangxiaoli\n",
      "I love wangxiaoli\n",
      "1\n",
      "2\n",
      "3\n",
      "4\n",
      "5\n",
      "6\n",
      "我找到了\n"
     ]
    }
   ],
   "source": [
    "# 在python中，如果循环变量的名称不重要，可以用下划线代替\n",
    "for _ in range(1,6):\n",
    "    print('I love wangxiaoli')\n",
    "# break用法\n",
    "# 在数字1-10中，寻找数字7，一旦找到打印\"我找到了\"，找到7之前，打印循环到的数字，遇到7之后结束循环\n",
    "# for循环中的变量表示，一般用i,k,m,n或者indx，idx，item之类的表示  \n",
    "for i in range(1,11):\n",
    "    if i == 7:\n",
    "        print('我找到了')\n",
    "        break\n",
    "    else:\n",
    "        print(i)"
   ]
  },
  {
   "cell_type": "code",
   "execution_count": 21,
   "metadata": {},
   "outputs": [
    {
     "name": "stdout",
     "output_type": "stream",
     "text": [
      "2是偶数\n",
      "4是偶数\n",
      "6是偶数\n",
      "8是偶数\n",
      "10是偶数\n"
     ]
    }
   ],
   "source": [
    "# continue用法\n",
    "# 在数字1-10中，寻找偶数，并打印出来 \n",
    "for i in range(1,11):\n",
    "    if i % 2 == 1:\n",
    "        continue\n",
    "    else:\n",
    "        print('{0}是偶数'.format(i))"
   ]
  },
  {
   "cell_type": "code",
   "execution_count": 22,
   "metadata": {},
   "outputs": [
    {
     "name": "stdout",
     "output_type": "stream",
     "text": [
      "2是偶数\n",
      "4是偶数\n",
      "6是偶数\n",
      "8是偶数\n",
      "10是偶数\n"
     ]
    }
   ],
   "source": [
    "# continue用法\n",
    "# 下面的代码更加简洁，效果一致的\n",
    "for i in range(1,11):\n",
    "    if i%2 == 0:\n",
    "        print('{0}是偶数'.format(i))"
   ]
  },
  {
   "cell_type": "code",
   "execution_count": 23,
   "metadata": {},
   "outputs": [
    {
     "name": "stdout",
     "output_type": "stream",
     "text": [
      "2是偶数\n",
      "4是偶数\n",
      "6是偶数\n",
      "8是偶数\n",
      "10是偶数\n"
     ]
    }
   ],
   "source": [
    "# continue用法\n",
    "# 使用下面的代码也可以实现该效果\n",
    "for i in range(1,11):\n",
    "    if i % 2 == 1:\n",
    "        continue\n",
    "    print('{0}是偶数'.format(i))"
   ]
  },
  {
   "cell_type": "code",
   "execution_count": 26,
   "metadata": {},
   "outputs": [
    {
     "name": "stdout",
     "output_type": "stream",
     "text": [
      "I'm here\n",
      "I'm here\n",
      "I'm here\n",
      "I'm here\n",
      "I'm here\n"
     ]
    }
   ],
   "source": [
    "# pass举例，一般表示占位,写完一段代码后，不想再写下一段，但是又不想报错，就用pass占位\n",
    "for i in range(1,6):\n",
    "    pass\n",
    "\n",
    "# pass没有跳过功能\n",
    "for i in range(1,6):\n",
    "    pass\n",
    "    print('I\\'m here')"
   ]
  }
 ],
 "metadata": {
  "kernelspec": {
   "display_name": "Python 3",
   "language": "python",
   "name": "python3"
  },
  "language_info": {
   "codemirror_mode": {
    "name": "ipython",
    "version": 3
   },
   "file_extension": ".py",
   "mimetype": "text/x-python",
   "name": "python",
   "nbconvert_exporter": "python",
   "pygments_lexer": "ipython3",
   "version": "3.6.5"
  }
 },
 "nbformat": 4,
 "nbformat_minor": 2
}
