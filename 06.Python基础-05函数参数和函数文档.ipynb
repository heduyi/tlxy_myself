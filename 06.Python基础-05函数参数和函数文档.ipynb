{
 "cells": [
  {
   "cell_type": "markdown",
   "metadata": {},
   "source": [
    "### 关键字参数\n",
    "- 语法\n",
    "    def func(p1=v1,p2=v2....)\n",
    "        func_body\n",
    "    调用函数：\n",
    "    func(p1=value1,p2=value2....)\n",
    "比较麻烦，但是也有好处：\n",
    "    - 不容易混淆，一般的实参和形参只是按照位置一一对应即可，容易出错\n",
    "    - 使用关键字参数，可以不考虑参数的位置"
   ]
  },
  {
   "cell_type": "code",
   "execution_count": 38,
   "metadata": {},
   "outputs": [
    {
     "name": "stdout",
     "output_type": "stream",
     "text": [
      "I'm a student\n",
      "我叫xiaoli,我今年18岁了，我住my home。\n",
      "I'm a student\n",
      "我叫xiaoli,我今年18岁了，我住my home。\n"
     ]
    }
   ],
   "source": [
    "# 关键字参数举例\n",
    "def stu_info(name,age,addr):\n",
    "    print('I\\'m a student')\n",
    "    print('我叫{0},我今年{1}岁了，我住{2}。'.format(name,age,addr))\n",
    "n = 'xiaoli'\n",
    "a = 18\n",
    "addr = 'my home'\n",
    "# 普通参数，只是按照位置传递，很容易出错\n",
    "stu_info(n,a,addr)\n",
    "\n",
    "def stu_info_key(name='No name',age=0,addr='No addr'):# 此处的=前后都不需要加空格\n",
    "    print('I\\'m a student')\n",
    "    print('我叫{0},我今年{1}岁了，我住{2}。'.format(name,age,addr))\n",
    "n = 'xiaoli' # 此处=前面和后面建议加空格\n",
    "a = 18\n",
    "addr = 'my home'\n",
    "# 普通参数，只是按照位置传递，很容易出错\n",
    "stu_info_key(age=a,name=n,addr=addr)"
   ]
  },
  {
   "cell_type": "markdown",
   "metadata": {},
   "source": [
    "### 收集参数\n",
    "- 把没有位置，不能和定义时的参数位置相对应的参数放入一个特定的数据结构中\n",
    "- 语法\n",
    "        def func(*args)\n",
    "            func_body\n",
    "            按照list使用方式访问args得到传入的参数\n",
    "        调用：\n",
    "        func(p1,p2,p3...)\n",
    "- 参数名args不是必须这么写，但是强烈建议写成args\n",
    "- 参数名args前面必须有*\n",
    "- 收集参数可以和其他参数共存\n"
   ]
  },
  {
   "cell_type": "code",
   "execution_count": 42,
   "metadata": {},
   "outputs": [
    {
     "name": "stdout",
     "output_type": "stream",
     "text": [
      "hello,下面是我的自我介绍：\n",
      "<class 'tuple'>\n",
      "angus\n",
      "17\n",
      "shanghai\n",
      "xiaoli\n",
      "youxi\n",
      "hello,下面是我的自我介绍：\n",
      "<class 'tuple'>\n",
      "hedongjie\n",
      "hello,下面是我的自我介绍：\n",
      "<class 'tuple'>\n"
     ]
    }
   ],
   "source": [
    "# 收集参数举例\n",
    "# 模拟一个学生的自我介绍，但是不知道会说什么\n",
    "# args看成一个列表\n",
    "def stu(*args):\n",
    "    print('hello,下面是我的自我介绍：')\n",
    "    # type函数作用是检测变量的类型\n",
    "    print(type(args))\n",
    "    for item in args:\n",
    "        print(item)\n",
    "        \n",
    "stu('angus',17,'shanghai','xiaoli','youxi')\n",
    "stu('hedongjie')\n",
    "\n",
    "# 收集参数可以不带任何实参调用，此时收集参数为空tuple\n",
    "stu()"
   ]
  },
  {
   "cell_type": "markdown",
   "metadata": {},
   "source": [
    "### 收集参数の关键字收集参数\n",
    "- 把关键字参数按照字典格式存入收集参数\n",
    "- 语法\n",
    "        def func(**kwargs):\n",
    "            func_body\n",
    "        #调用\n",
    "        func(p1=v1,p2=v2,p3=v3....)\n",
    "- kwargs为约定俗成的\n",
    "- 调用的时候把多余的关键字参数放入kwargs中\n",
    "- 访问kwargs需要按照字典格式访问\n"
   ]
  },
  {
   "cell_type": "code",
   "execution_count": 46,
   "metadata": {},
   "outputs": [
    {
     "name": "stdout",
     "output_type": "stream",
     "text": [
      "hello,下面是我的自我介绍\n",
      "<class 'dict'>\n",
      "name ----- angus\n",
      "age ----- 18\n",
      "addr ----- shanghai\n",
      "lover ----- xiaoli\n",
      "work ----- pythoner\n",
      "**************************************************\n",
      "hello,下面是我的自我介绍\n",
      "<class 'dict'>\n",
      "name ----- dongjie\n",
      "**************************************************\n",
      "hello,下面是我的自我介绍\n",
      "<class 'dict'>\n"
     ]
    }
   ],
   "source": [
    "# 关键字收集参数举例\n",
    "# 自我介绍\n",
    "# 调用的时候需要使用关键字参数调用\n",
    "def stu(**kwargs):\n",
    "    print('hello,下面是我的自我介绍')\n",
    "    print(type(kwargs))\n",
    "    for k,v in kwargs.items():\n",
    "        print(k,'-' * 5,v)\n",
    "\n",
    "stu(name='angus',age=18,addr='shanghai',lover='xiaoli',work='pythoner')\n",
    "print('*' * 50)\n",
    "stu(name='dongjie')\n",
    "print('*' * 50)\n",
    "# 关键字收集参数也可以为空\n",
    "stu()"
   ]
  },
  {
   "cell_type": "markdown",
   "metadata": {},
   "source": [
    "### 收集参数混合调用的顺序问题\n",
    "- 收集参数、关键字参数、普通参数可以混合使用。普通参数和关键字参数优先\n",
    "- 定义的时候一般找普通参数、关键字参数、收集参数tuple、收集参数dict"
   ]
  },
  {
   "cell_type": "code",
   "execution_count": 64,
   "metadata": {},
   "outputs": [
    {
     "name": "stdout",
     "output_type": "stream",
     "text": [
      "Hello,everybody!\n",
      "I'm angus,I'm 18 years old.\n",
      "I don't have any bobby.\n",
      "********************\n",
      "$$$$$$$$$$$$$$$$$$$$$$$$$$$$$$\n",
      "Hello,everybody!\n",
      "I'm angus,I'm 18 years old.\n",
      "My hobby is swiming.\n",
      "********************\n",
      "$$$$$$$$$$$$$$$$$$$$$$$$$$$$$$\n",
      "Hello,everybody!\n",
      "I'm angus,I'm 18 years old.\n",
      "My hobby is swiming.\n",
      "********************\n",
      "xiaoli\n",
      "jingjing\n",
      "$$$$$$$$$$$$$$$$$$$$$$$$$$$$$$\n",
      "hobby2 --- film\n",
      "bobby3 --- cooking\n"
     ]
    }
   ],
   "source": [
    "# 收集参数混合调用案例\n",
    "# stu模拟一个学生的自我介绍\n",
    "# 注意顺序：普通参数、收集参数就，默认参数，关键字收集参数。调用的时候也需要该顺序\n",
    "def stu(name,age,*args,hobby='none',**kwargs):\n",
    "    print('Hello,everybody!')\n",
    "    print('I\\'m {0},I\\'m {1} years old.'.format(name,age))\n",
    "    if hobby == 'none':\n",
    "        print('I don\\'t have any bobby.')\n",
    "    else:\n",
    "        print('My hobby is {0}.'.format(hobby))\n",
    "    print('*' * 20)\n",
    "    \n",
    "    for i in args:\n",
    "        print(i)\n",
    "        \n",
    "    print('$' * 30)\n",
    "    \n",
    "    for k,v in kwargs.items():\n",
    "        print(k,'---',v)\n",
    "\n",
    "# 调用函数\n",
    "name = 'angus'\n",
    "age = 18\n",
    "\n",
    "stu(name,age)\n",
    "\n",
    "stu(name, age, hobby = 'swiming')\n",
    "\n",
    "stu(name, age, 'xiaoli','jingjing',hobby = 'swiming', hobby2='film',bobby3='cooking')"
   ]
  },
  {
   "cell_type": "markdown",
   "metadata": {},
   "source": [
    "### 收集参数的解包问题\n",
    "- 把参数放入list/dict中，直接把list/dict中的值放入收集参数中\n"
   ]
  },
  {
   "cell_type": "code",
   "execution_count": 71,
   "metadata": {},
   "outputs": [
    {
     "name": "stdout",
     "output_type": "stream",
     "text": [
      "hi,hi,hi\n",
      "<class 'list'>\n",
      "0\n",
      "['angus', 20, 25, 'dongjie']\n",
      "hi,hi,hi\n",
      "<class 'str'>\n",
      "0\n",
      "angus\n",
      "<class 'int'>\n",
      "1\n",
      "20\n",
      "<class 'int'>\n",
      "2\n",
      "25\n",
      "<class 'str'>\n",
      "3\n",
      "dongjie\n"
     ]
    }
   ],
   "source": [
    "# 收集参数的解包举例\n",
    "\n",
    "def stu(*args):\n",
    "    print('hi,hi,hi')\n",
    "    #\n",
    "    #\n",
    "    n = 0\n",
    "    for i in args:\n",
    "        print(type(i))\n",
    "        print(n)\n",
    "        n += 1\n",
    "        print(i)\n",
    "# stu('angus','xiaoli','19','20')\n",
    "l = ['angus',20,25,'dongjie']\n",
    "stu(l)\n",
    "# 此时，args的表示形式是字典内的一个list类型的元素，即arg = (['angus',20,25,'dongjie'],)\n",
    "# 和我们预想的不同\n",
    "\n",
    "# 此时的调用，可以使用解包符号，即调用的时候前面加一个*\n",
    "stu(*l)"
   ]
  },
  {
   "cell_type": "markdown",
   "metadata": {},
   "source": [
    "#### 同理，dict类型收集参数一样可以解包，但是\n",
    "- 对dict类型进行解包需要两个星号进行解包\n"
   ]
  },
  {
   "cell_type": "markdown",
   "metadata": {},
   "source": [
    "### 返回值\n",
    "- 函数和过程的区别\n",
    "    - 有无返回值\n",
    "- 需要使用return显示返回内容\n",
    "- 如果没有返回，则默认返回None\n",
    "- 推荐写法，无论有无返回值，最后都要以return结束"
   ]
  },
  {
   "cell_type": "code",
   "execution_count": 72,
   "metadata": {},
   "outputs": [
    {
     "name": "stdout",
     "output_type": "stream",
     "text": [
      "有返回值\n",
      "1\n",
      "没有返回值\n",
      "None\n"
     ]
    }
   ],
   "source": [
    "# 返回值举例\n",
    "def func_1():\n",
    "    print('有返回值')\n",
    "    return 1\n",
    "def func_2():\n",
    "    print('没有返回值')\n",
    "    \n",
    "f1 = func_1()\n",
    "print(f1)\n",
    "\n",
    "f2 = func_2()\n",
    "print(f2)"
   ]
  },
  {
   "cell_type": "markdown",
   "metadata": {},
   "source": [
    "# 函数文档\n",
    "- 函数的文档的作用是对当前函数提供使用相关的参考信息\n",
    "- 文档的写法\n",
    "    - 在函数开始的第一行使用三引号字符串定义符\n",
    "    - 一般具有特定格式\n",
    "- 文档查看\n",
    "    - 使用help函数,help(func)\n",
    "    - 使用__doc__"
   ]
  },
  {
   "cell_type": "code",
   "execution_count": 91,
   "metadata": {},
   "outputs": [],
   "source": [
    "# 函数文档举例\n",
    "def stu(name, age, *args):\n",
    "    '''\n",
    "    第一行文档\n",
    "    第二行文档\n",
    "    第三行文档\n",
    "    .....\n",
    "    '''\n",
    "    print('this is function stu')"
   ]
  },
  {
   "cell_type": "code",
   "execution_count": 92,
   "metadata": {},
   "outputs": [
    {
     "name": "stdout",
     "output_type": "stream",
     "text": [
      "Help on function stu in module __main__:\n",
      "\n",
      "stu(name, age, *args)\n",
      "    第一行文档\n",
      "    第二行文档\n",
      "    第三行文档\n",
      "    .....\n",
      "\n"
     ]
    },
    {
     "data": {
      "text/plain": [
       "'\\n    第一行文档\\n    第二行文档\\n    第三行文档\\n    .....\\n    '"
      ]
     },
     "execution_count": 92,
     "metadata": {},
     "output_type": "execute_result"
    }
   ],
   "source": [
    "# 查看函数文档\n",
    "help(stu)\n",
    "stu.__doc__"
   ]
  },
  {
   "cell_type": "code",
   "execution_count": null,
   "metadata": {},
   "outputs": [],
   "source": []
  }
 ],
 "metadata": {
  "kernelspec": {
   "display_name": "Python 3",
   "language": "python",
   "name": "python3"
  },
  "language_info": {
   "codemirror_mode": {
    "name": "ipython",
    "version": 3
   },
   "file_extension": ".py",
   "mimetype": "text/x-python",
   "name": "python",
   "nbconvert_exporter": "python",
   "pygments_lexer": "ipython3",
   "version": "3.6.5"
  }
 },
 "nbformat": 4,
 "nbformat_minor": 2
}
