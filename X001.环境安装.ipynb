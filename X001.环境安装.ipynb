{
 "cells": [
  {
   "cell_type": "markdown",
   "metadata": {},
   "source": [
    "# 操作系统\n",
    "- 管理软硬件资源，给运行软件提供一个统一调用的平台\n",
    "- 操作系统分类\n",
    "    - windows\n",
    "    - Unix\n",
    "        - MacOS\n",
    "        - Linux（linus编写）\n",
    "            - Ubuntu(很方便个人用户使用)\n",
    "                - Ubuntu16.04 LTS（16年4月份推出，每年4月份和10月份各推出一个，LTS为长期稳定版本）\n",
    "            - Centos\n",
    "            - redhat\n",
    "- 打包好的系统安装\n",
    "    - 在virtualbox里选择新建linux系统（ubuntu），然后选择下载好的文件作为硬盘\n",
    "- 自行安装操作系统\n",
    "    - anaconda(国内可以在清华源下载，速度更快) + pycharm\n",
    "    - 安装anaconda时把advanced options都选择上（add to system path/register anaconda as system python 3.6）\n",
    "\n",
    "\n",
    "# GIT（分布式+开源）\n",
    "- 个人文件的版本控制\n",
    "- 多人协作\n",
    "- linus开发的git\n",
    "- 2008年github上线\n",
    "- 版本控制的产品：\n",
    "    - 集中式：cvs、svn\n",
    "    - 分布式：github开源、bitbuckets私人\n",
    "    - 个人需要有blog+github\n",
    "    \n",
    "    \n",
    "\n",
    "    "
   ]
  }
 ],
 "metadata": {
  "kernelspec": {
   "display_name": "Python 3",
   "language": "python",
   "name": "python3"
  },
  "language_info": {
   "codemirror_mode": {
    "name": "ipython",
    "version": 3
   },
   "file_extension": ".py",
   "mimetype": "text/x-python",
   "name": "python",
   "nbconvert_exporter": "python",
   "pygments_lexer": "ipython3",
   "version": "3.7.1"
  }
 },
 "nbformat": 4,
 "nbformat_minor": 2
}
