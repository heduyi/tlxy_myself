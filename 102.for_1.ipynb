{
 "cells": [
  {
   "cell_type": "code",
   "execution_count": 2,
   "metadata": {},
   "outputs": [
    {
     "name": "stdout",
     "output_type": "stream",
     "text": [
      "hello world\n"
     ]
    }
   ],
   "source": [
    "# 简单图形打印\n",
    "# 打印以下图形在输出\n",
    "'''\n",
    "* * * * *\n",
    "* * * * *\n",
    "* * * * *\n",
    "* * * * *\n",
    "'''\n",
    "print('hello world')"
   ]
  },
  {
   "cell_type": "code",
   "execution_count": 5,
   "metadata": {},
   "outputs": [
    {
     "name": "stdout",
     "output_type": "stream",
     "text": [
      "* * * * *\n",
      "* * * * *\n",
      "* * * * *\n",
      "* * * * *\n"
     ]
    }
   ],
   "source": [
    "# 方法一\n",
    "print('* * * * *')\n",
    "print('* * * * *')\n",
    "print('* * * * *')\n",
    "print('* * * * *')"
   ]
  },
  {
   "cell_type": "code",
   "execution_count": 6,
   "metadata": {},
   "outputs": [
    {
     "name": "stdout",
     "output_type": "stream",
     "text": [
      "* * * * * \n",
      "* * * * * \n",
      "* * * * * \n",
      "* * * * * \n"
     ]
    }
   ],
   "source": [
    "# 方法二\n",
    "print('* ' * 5)\n",
    "print('* ' * 5)\n",
    "print('* ' * 5)\n",
    "print('* ' * 5)"
   ]
  },
  {
   "cell_type": "code",
   "execution_count": 11,
   "metadata": {},
   "outputs": [
    {
     "name": "stdout",
     "output_type": "stream",
     "text": [
      "* * * * * \n",
      "* * * * * \n",
      "* * * * * \n",
      "* * * * * \n"
     ]
    }
   ],
   "source": [
    "# 方法三，使用for循环\n",
    "for i in range(4):\n",
    "    print('* ' * 5)"
   ]
  },
  {
   "cell_type": "code",
   "execution_count": 15,
   "metadata": {},
   "outputs": [
    {
     "name": "stdout",
     "output_type": "stream",
     "text": [
      "* * * * * \n",
      "* * * * * \n",
      "* * * * * \n",
      "* * * * * \n"
     ]
    }
   ],
   "source": [
    "#方法四，使用双层for循环\n",
    "for i in range(4):\n",
    "    # 利用for循环打印一行星号\n",
    "    for j in range(5):\n",
    "        print('* ', end = '')\n",
    "    # 打印完某一行后，换行\n",
    "    print()"
   ]
  },
  {
   "cell_type": "code",
   "execution_count": 16,
   "metadata": {},
   "outputs": [
    {
     "name": "stdout",
     "output_type": "stream",
     "text": [
      "hello world\n"
     ]
    }
   ],
   "source": [
    "# 简单图形打印\n",
    "# 打印以下图形在输出\n",
    "'''\n",
    "* * * * *\n",
    "*       *\n",
    "*       *\n",
    "* * * * *\n",
    "'''\n",
    "print('hello world')"
   ]
  },
  {
   "cell_type": "code",
   "execution_count": 45,
   "metadata": {},
   "outputs": [
    {
     "name": "stdout",
     "output_type": "stream",
     "text": [
      "* * * * * \n",
      "*       * \n",
      "*       * \n",
      "* * * * * \n"
     ]
    }
   ],
   "source": [
    "# i表示行数，j表示列数\n",
    "for i in range(4):\n",
    "    if i == 0 or i == 3:\n",
    "        print('* ' * 5)\n",
    "    if 0 < i < 3:\n",
    "        print('* ' + 3 * '  ' + '* ')"
   ]
  },
  {
   "cell_type": "code",
   "execution_count": null,
   "metadata": {},
   "outputs": [],
   "source": [
    "# i表示行数，j表示列数\n",
    "for i in range(4):\n",
    "    if i == 0 or i == 3:\n",
    "        print('* ' * 5)\n",
    "    if 0 < i < 3:\n",
    "        for \n",
    "        \n",
    " #   if 0 < i < 3:\n",
    " #       print('* ' + 3 * '  ' + '* ')"
   ]
  },
  {
   "cell_type": "code",
   "execution_count": 44,
   "metadata": {},
   "outputs": [
    {
     "name": "stdout",
     "output_type": "stream",
     "text": [
      "行数：0\n",
      "列数：0\n"
     ]
    }
   ],
   "source": [
    "# i,m表示行数，j,n表示列数\n",
    "i = input('行数：')\n",
    "j = input('列数：')\n",
    "i = int(i)\n",
    "j = int(j)\n",
    "\n",
    "#使用for循环，如果是第一行或者最后一行，则全部打印星号\n",
    "#如果是中间的行数，开头和结尾打印星号，其余为空格\n",
    "for m in range(i):\n",
    "    if m == 0 or m == i-1:\n",
    "        print('* ' * j)\n",
    "    else:\n",
    "        print('* ' + (j-2) * '  ' + '* ')"
   ]
  }
 ],
 "metadata": {
  "kernelspec": {
   "display_name": "Python 3",
   "language": "python",
   "name": "python3"
  },
  "language_info": {
   "codemirror_mode": {
    "name": "ipython",
    "version": 3
   },
   "file_extension": ".py",
   "mimetype": "text/x-python",
   "name": "python",
   "nbconvert_exporter": "python",
   "pygments_lexer": "ipython3",
   "version": "3.6.5"
  }
 },
 "nbformat": 4,
 "nbformat_minor": 2
}
