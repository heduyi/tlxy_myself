{
 "cells": [
  {
   "cell_type": "markdown",
   "metadata": {},
   "source": [
    "# while循环\n",
    "- 一个循环语句\n",
    "- 表示当某条件成立的时候就循环\n",
    "- 不知道具体的循环次数，但是能确定循环成立条件的时候用while循环\n",
    "- while语法：\n",
    "        while条件表达式：\n",
    "            语句块\n",
    "        \n",
    "        另一种表达方式\n",
    "        while 条件表达式：\n",
    "            语句块1\n",
    "        else:\n",
    "            语句块2"
   ]
  },
  {
   "cell_type": "code",
   "execution_count": 1,
   "metadata": {},
   "outputs": [
    {
     "name": "stdout",
     "output_type": "stream",
     "text": [
      "第1年拿了105000.0块钱\n",
      "第2年拿了110250.0块钱\n",
      "第3年拿了115762.5块钱\n",
      "第4年拿了121550.625块钱\n",
      "第5年拿了127628.15625块钱\n",
      "第6年拿了134009.5640625块钱\n",
      "第7年拿了140710.042265625块钱\n",
      "第8年拿了147745.54437890626块钱\n",
      "第9年拿了155132.82159785158块钱\n",
      "第10年拿了162889.46267774416块钱\n",
      "第11年拿了171033.93581163138块钱\n",
      "第12年拿了179585.63260221295块钱\n",
      "第13年拿了188564.91423232362块钱\n",
      "第14年拿了197993.1599439398块钱\n",
      "第15年拿了207892.8179411368块钱\n"
     ]
    }
   ],
   "source": [
    "# 如果年利率为5%，本利是每年翻滚，则多少年后本金会翻倍\n",
    "money = 100000\n",
    "year = 0\n",
    "while money < 200000:\n",
    "    money = money * (1 + 0.05)\n",
    "    year += 1 # year = year + 1\n",
    "    print('第{0}年拿了{1}块钱'.format(year,money))\n",
    "    "
   ]
  },
  {
   "cell_type": "code",
   "execution_count": 2,
   "metadata": {},
   "outputs": [
    {
     "name": "stdout",
     "output_type": "stream",
     "text": [
      "第1年拿了105000.0块钱\n",
      "第2年拿了110250.0块钱\n",
      "第3年拿了115762.5块钱\n",
      "第4年拿了121550.625块钱\n",
      "第5年拿了127628.15625块钱\n",
      "第6年拿了134009.5640625块钱\n",
      "第7年拿了140710.042265625块钱\n",
      "第8年拿了147745.54437890626块钱\n",
      "第9年拿了155132.82159785158块钱\n",
      "第10年拿了162889.46267774416块钱\n",
      "第11年拿了171033.93581163138块钱\n",
      "第12年拿了179585.63260221295块钱\n",
      "第13年拿了188564.91423232362块钱\n",
      "第14年拿了197993.1599439398块钱\n",
      "第15年拿了207892.8179411368块钱\n",
      "终于翻倍了\n"
     ]
    }
   ],
   "source": [
    "# 如果年利率为5%，本利是每年翻滚，则多少年后本金会翻倍\n",
    "# 如果拿到了翻倍的钱，庆祝下\n",
    "money = 100000\n",
    "year = 0\n",
    "while money < 200000:\n",
    "    money = money * (1 + 0.05)\n",
    "    year += 1 # year = year + 1\n",
    "    print('第{0}年拿了{1}块钱'.format(year,money))\n",
    "else:\n",
    "    print('终于翻倍了')"
   ]
  },
  {
   "cell_type": "markdown",
   "metadata": {},
   "source": [
    "# 函数\n",
    "- 代码的一种组织形式\n",
    "- 一个函数一般完成一项特定的功能\n",
    "- 函数的使用\n",
    "    - 函数需要先定义\n",
    "    - 使用函数俗称调用"
   ]
  },
  {
   "cell_type": "code",
   "execution_count": 4,
   "metadata": {},
   "outputs": [
    {
     "name": "stdout",
     "output_type": "stream",
     "text": [
      "I am a function\n",
      "我要完成一定的功能\n",
      "我结束了\n"
     ]
    }
   ],
   "source": [
    "# 定义一个函数,只是定义的话不会被执行\n",
    "# def关键字后面一个空格；函数名自己定义，函数名要遵循命名规则，约定俗成不使用大驼峰（大驼峰只给类用）\n",
    "# 后面的括号和冒号不能省略，括号内可以有参数\n",
    "# 函数内所有代码要都有相同缩进\n",
    "\n",
    "def func():\n",
    "    print('I am a function')\n",
    "    print('我要完成一定的功能')\n",
    "    print('我结束了')\n",
    "\n",
    "# 函数的调用，直接函数名后面跟括号即可\n",
    "func()"
   ]
  },
  {
   "cell_type": "markdown",
   "metadata": {},
   "source": [
    "### 函数的参数和返回值\n",
    "- 参数： 负责给函数传递一些必要的数据或信息\n",
    "    - 形参（形式参数）：在函数定义的时候用到的参数，没有具体的值，只是一个占位符，\n",
    "    - 实参（实际参数）：在调用函数的时候输入的值\n",
    "- 返回值：函数的执行结果\n",
    "    - 使用return关键字\n",
    "    - 如果没有返回值，默认返回一个None\n",
    "    - 函数一旦执行return语句，则无条件返回，即结束函数的执行"
   ]
  },
  {
   "cell_type": "code",
   "execution_count": 5,
   "metadata": {},
   "outputs": [
    {
     "name": "stdout",
     "output_type": "stream",
     "text": [
      "xiaoli,你怎么了\n",
      "我走啦\n"
     ]
    }
   ],
   "source": [
    "# 参数的定义和使用\n",
    "# 参数person只是一个符号，代表的是调用的时候的某一个数据\n",
    "# 调用的时候会用P的值代替函数中所有的person\n",
    "\n",
    "def hello(person):\n",
    "    print('{0},你怎么了'.format(person))\n",
    "    print('我走啦')\n",
    "    \n",
    "p = 'xiaoli'   \n",
    "hello(p)"
   ]
  },
  {
   "cell_type": "code",
   "execution_count": 1,
   "metadata": {},
   "outputs": [
    {
     "name": "stdout",
     "output_type": "stream",
     "text": [
      "xiaoli,你怎么了\n",
      "我走啦\n",
      "我已经跟xiaoli打完招呼了，xiaoli不理我\n"
     ]
    }
   ],
   "source": [
    "# return语句的基本使用\n",
    "# 函数打完招呼后返回一句话\n",
    "def hello(person):\n",
    "    print('{0},你怎么了'.format(person))\n",
    "    print('我走啦')\n",
    "    \n",
    "    return'我已经跟{0}打完招呼了，{0}不理我'.format(person)\n",
    "    \n",
    "p = 'xiaoli'   \n",
    "rst = hello(p)\n",
    "print(rst)"
   ]
  },
  {
   "cell_type": "code",
   "execution_count": 2,
   "metadata": {},
   "outputs": [
    {
     "name": "stdout",
     "output_type": "stream",
     "text": [
      "xiaoli,你怎么了\n",
      "我提前结束啦\n"
     ]
    }
   ],
   "source": [
    "# return语句的基本使用\n",
    "# 函数打完招呼后返回一句话\n",
    "# 函数一旦执行return语句，则无条件返回，即结束函数的执行\n",
    "def hello(person):\n",
    "    print('{0},你怎么了'.format(person))\n",
    "    return '我提前结束啦'\n",
    "    print('我走啦')\n",
    "    \n",
    "    return '我已经跟{0}打完招呼了，{0}不理我'.format(person)\n",
    "    \n",
    "p = 'xiaoli'   \n",
    "rst = hello(p)\n",
    "print(rst)"
   ]
  },
  {
   "cell_type": "code",
   "execution_count": 3,
   "metadata": {},
   "outputs": [
    {
     "name": "stdout",
     "output_type": "stream",
     "text": [
      "Help on built-in function print in module builtins:\n",
      "\n",
      "print(...)\n",
      "    print(value, ..., sep=' ', end='\\n', file=sys.stdout, flush=False)\n",
      "    \n",
      "    Prints the values to a stream, or to sys.stdout by default.\n",
      "    Optional keyword arguments:\n",
      "    file:  a file-like object (stream); defaults to the current sys.stdout.\n",
      "    sep:   string inserted between values, default a space.\n",
      "    end:   string appended after the last value, default a newline.\n",
      "    flush: whether to forcibly flush the stream.\n",
      "\n"
     ]
    }
   ],
   "source": [
    "# 查找函数帮助文档\n",
    "# 1.使用help函数\n",
    "# print函数默认结束end = '\\n',有个换行的动作，当不想换行时可以使用end = ' '来替换\n",
    "help(print)\n"
   ]
  },
  {
   "cell_type": "code",
   "execution_count": 13,
   "metadata": {},
   "outputs": [
    {
     "name": "stdout",
     "output_type": "stream",
     "text": [
      "1 我是第1行\n",
      "2 4 我是第2行\n",
      "3 6 9 我是第3行\n",
      "4 8 12 16 我是第4行\n",
      "5 10 15 20 25 我是第5行\n",
      "6 12 18 24 30 36 我是第6行\n",
      "7 14 21 28 35 42 49 我是第7行\n",
      "8 16 24 32 40 48 56 64 我是第8行\n",
      "9 18 27 36 45 54 63 72 81 我是第9行\n"
     ]
    }
   ],
   "source": [
    "# 九九乘法表,使用for循环打印\n",
    "for row in range(1,10):\n",
    "    \n",
    "    # 打印一行\n",
    "    for col in range(1,row + 1):\n",
    "        print(row * col , end = ' ')\n",
    "    \n",
    "    print('我是第{0}行'.format(row))"
   ]
  },
  {
   "cell_type": "code",
   "execution_count": 24,
   "metadata": {},
   "outputs": [
    {
     "name": "stdout",
     "output_type": "stream",
     "text": [
      "1 \n",
      "2 4 \n",
      "3 6 9 \n",
      "4 8 12 16 \n",
      "5 10 15 20 25 \n",
      "6 12 18 24 30 36 \n",
      "7 14 21 28 35 42 49 \n",
      "8 16 24 32 40 48 56 64 \n",
      "9 18 27 36 45 54 63 72 81 \n"
     ]
    }
   ],
   "source": [
    "# 九九乘法表，使用函数打印，将打印出一行内容定义为一个函数，然后调用该函数即可\n",
    "def printLine(row):\n",
    "    for col in range(1,row + 1):\n",
    "        print(row * col , end = ' ')\n",
    "    # 因为上面使用了end =' '，取消了换行的动作，所以所有的内容打印出来会都放在一行了，所以使用下面的print('')换行\n",
    "    print('')\n",
    "\n",
    "# 调用上面定义的函数\n",
    "for row in range(1,10):\n",
    "    printLine(row)"
   ]
  },
  {
   "cell_type": "markdown",
   "metadata": {},
   "source": [
    "## 参数详解\n",
    "- 参数分类\n",
    "    - 普通参数\n",
    "    - 默认参数\n",
    "    - 关键字参数\n",
    "    - 收集参数\n",
    "\n",
    "### 普通参数\n",
    "- 参考上面的例子\n",
    "- 定义的时候直接定义变量名\n",
    "- 调用的时候直接把变量或者值放入指定位置\n",
    "        \n",
    "    格式如下：\n",
    "       def 函数名(参数1，参数2，参数3....):\n",
    "           函数体\n",
    "            \n",
    "       # 调用\n",
    "       函数名(value1,value2,value3...)\n",
    "            \n",
    "       # 调用的时候，具体参考的是位置，按照位置赋值\n",
    "\n",
    "### 默认参数\n",
    "- 形参带有默认值\n",
    "- 调用的时候，如果没有对应的形参赋值，则使用默认值\n",
    "           \n",
    "     格式如下：\n",
    "        def func_name(p1 = v1, p2 = v2 ....)\n",
    "            func_block\n",
    "                \n",
    "        # 调用方法1,没有对应的实参，直接使用默认值：\n",
    "        func_name()\n",
    "        \n",
    "        # 调用方法2,如果有对应的实参，可以不使用默认值，直接调用即可\n",
    "        value1 = x\n",
    "        value2 = y\n",
    "        func_name(value1,value2)"
   ]
  },
  {
   "cell_type": "code",
   "execution_count": 28,
   "metadata": {},
   "outputs": [
    {
     "name": "stdout",
     "output_type": "stream",
     "text": [
      "Tom is 22 years old and he is a good student.\n",
      "Lily is 21 years old and she is a good student\n"
     ]
    }
   ],
   "source": [
    "# 默认参数举例\n",
    "# 报名函数，需要知道学生的信息（姓名、年龄、性别）\n",
    "# 学习python的基本都是男生，所有默认值设置为男性\n",
    "def reg(name,age,gender='male'):\n",
    "    if gender == 'male':\n",
    "        print('{0} is {1} years old and he is a good student.'.format(name,age))\n",
    "    else:\n",
    "        print('{0} is {1} years old and she is a good student'.format(name,age))\n",
    "\n",
    "# 调用该函数\n",
    "reg('Tom',22)\n",
    "reg('Lily',21,'female')"
   ]
  }
 ],
 "metadata": {
  "kernelspec": {
   "display_name": "Python 3",
   "language": "python",
   "name": "python3"
  },
  "language_info": {
   "codemirror_mode": {
    "name": "ipython",
    "version": 3
   },
   "file_extension": ".py",
   "mimetype": "text/x-python",
   "name": "python",
   "nbconvert_exporter": "python",
   "pygments_lexer": "ipython3",
   "version": "3.6.5"
  }
 },
 "nbformat": 4,
 "nbformat_minor": 2
}
